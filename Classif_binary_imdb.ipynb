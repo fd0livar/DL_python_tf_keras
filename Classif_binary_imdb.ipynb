{
 "cells": [
  {
   "cell_type": "markdown",
   "metadata": {},
   "source": [
    "Let's work in a binary classification problem, using the imdb dataset"
   ]
  },
  {
   "cell_type": "code",
   "execution_count": 75,
   "metadata": {},
   "outputs": [],
   "source": [
    "# this first two lines are for deactivating the GPU usage\n",
    "import os\n",
    "os.environ[\"CUDA_VISIBLE_DEVICES\"]=\"-1\"\n",
    "#----------------------------------------\n",
    "import numpy as np\n",
    "import time"
   ]
  },
  {
   "cell_type": "code",
   "execution_count": 76,
   "metadata": {},
   "outputs": [],
   "source": [
    "from keras.datasets import imdb\n",
    "\n",
    "(train_data, train_labels), (test_data, test_labels) = imdb.load_data(num_words=10000)"
   ]
  },
  {
   "cell_type": "markdown",
   "metadata": {},
   "source": [
    "Had to downgrade numpy to `1.16.1`, to get rid of the error:  \n",
    "`Object arrays cannot be loaded when allow_pickle=False`"
   ]
  },
  {
   "cell_type": "code",
   "execution_count": 77,
   "metadata": {},
   "outputs": [
    {
     "data": {
      "text/plain": [
       "(25000,)"
      ]
     },
     "execution_count": 77,
     "metadata": {},
     "output_type": "execute_result"
    }
   ],
   "source": [
    "train_data.shape"
   ]
  },
  {
   "cell_type": "code",
   "execution_count": 78,
   "metadata": {},
   "outputs": [
    {
     "data": {
      "text/plain": [
       "(25000,)"
      ]
     },
     "execution_count": 78,
     "metadata": {},
     "output_type": "execute_result"
    }
   ],
   "source": [
    "train_labels.shape"
   ]
  },
  {
   "cell_type": "markdown",
   "metadata": {},
   "source": [
    "The data is a list of reviews, converted to indices encoded from a dictionary. We can select the most frequently used words with the `num_words` parameter. The variable `test_labels` is binary, a value of `1` corresponds to a positive review, and `0` for a negative one. \n",
    "\n",
    "For example, to get a review back to english we can do: "
   ]
  },
  {
   "cell_type": "code",
   "execution_count": 79,
   "metadata": {},
   "outputs": [],
   "source": [
    "word_index = imdb.get_word_index()\n",
    "reverse_word_index = dict([(value, key) for (key, value) in word_index.items()])\n",
    "decoded_review = ' '.join([reverse_word_index.get(i - 3, '!') for i in train_data[0]])"
   ]
  },
  {
   "cell_type": "code",
   "execution_count": 80,
   "metadata": {},
   "outputs": [
    {
     "data": {
      "text/plain": [
       "\"! this film was just brilliant casting location scenery story direction everyone's really suited the part they played and you could just imagine being there robert ! is an amazing actor and now the same being director ! father came from the same scottish island as myself so i loved the fact there was a real connection with this film the witty remarks throughout the film were great it was just brilliant so much that i bought the film as soon as it was released for ! and would recommend it to everyone to watch and the fly fishing was amazing really cried at the end it was so sad and you know what they say if you cry at a film it must have been good and this definitely was also ! to the two little boy's that played the ! of norman and paul they were just brilliant children are often left out of the ! list i think because the stars that play them all grown up are such a big profile for the whole film but these children are amazing and should be praised for what they have done don't you think the whole story was so lovely because it was true and was someone's life after all that was shared with us all\""
      ]
     },
     "execution_count": 80,
     "metadata": {},
     "output_type": "execute_result"
    }
   ],
   "source": [
    "decoded_review"
   ]
  },
  {
   "cell_type": "markdown",
   "metadata": {},
   "source": [
    "The shift in the `.get` method is due to the way the data in built. The first 3 positions are  the indices for 'padding', 'start of sequence' and 'unknown' \n",
    "\n",
    "### Preparing the data\n",
    "\n",
    "As we can't pass list of integer to a NN, we have to transform them into tensors. Let's one-hot encode them, this converts them to vectors of 1s and 0s.  "
   ]
  },
  {
   "cell_type": "code",
   "execution_count": 81,
   "metadata": {},
   "outputs": [
    {
     "name": "stdout",
     "output_type": "stream",
     "text": [
      "Elapsed 8.139 seconds.\n"
     ]
    }
   ],
   "source": [
    "start = time.perf_counter()\n",
    "def vectorize_sequences(sequences, dimension=10000):\n",
    "    results = np.zeros((len(sequences), dimension))\n",
    "    for i, sequence in enumerate(sequences):\n",
    "        results[i, sequence] = 1.\n",
    "    return results\n",
    "\n",
    "x_train = vectorize_sequences(train_data)\n",
    "x_test = vectorize_sequences(test_data)\n",
    "elapsed = time.perf_counter() - start\n",
    "print('Elapsed %.3f seconds.' % elapsed)"
   ]
  },
  {
   "cell_type": "code",
   "execution_count": 82,
   "metadata": {},
   "outputs": [
    {
     "data": {
      "text/plain": [
       "array([0., 1., 1., ..., 0., 0., 0.])"
      ]
     },
     "execution_count": 82,
     "metadata": {},
     "output_type": "execute_result"
    }
   ],
   "source": [
    "x_train[0]"
   ]
  },
  {
   "cell_type": "code",
   "execution_count": 83,
   "metadata": {},
   "outputs": [
    {
     "data": {
      "text/plain": [
       "(25000, 10000)"
      ]
     },
     "execution_count": 83,
     "metadata": {},
     "output_type": "execute_result"
    }
   ],
   "source": [
    "x_train.shape"
   ]
  },
  {
   "cell_type": "code",
   "execution_count": 84,
   "metadata": {},
   "outputs": [],
   "source": [
    "# Now we do the same for the labels\n",
    "y_train = np.asarray(train_labels).astype('float32')\n",
    "y_test = np.asarray(test_labels).astype('float32')"
   ]
  },
  {
   "cell_type": "markdown",
   "metadata": {},
   "source": [
    "### Building the network"
   ]
  },
  {
   "cell_type": "code",
   "execution_count": 85,
   "metadata": {},
   "outputs": [],
   "source": [
    "from keras import models\n",
    "from keras import layers"
   ]
  },
  {
   "cell_type": "code",
   "execution_count": 86,
   "metadata": {},
   "outputs": [],
   "source": [
    "model = models.Sequential()\n",
    "model.add(layers.Dense(16, activation='relu', input_shape=(10000, )))\n",
    "model.add(layers.Dense(16, activation='relu'))\n",
    "model.add(layers.Dense(1, activation='sigmoid'))"
   ]
  },
  {
   "cell_type": "markdown",
   "metadata": {},
   "source": [
    "The `relu` activation function is defined as `x = max(x, 0)`. It is like a `simplifed` sigmoid centered at 0. \n",
    "And the `sigmoid` activation maps the output to a probability value.\n",
    "\n",
    "Now we compile the model, and give the 3 important parameters: optimizer method, loss function and metrics used. "
   ]
  },
  {
   "cell_type": "code",
   "execution_count": 87,
   "metadata": {},
   "outputs": [],
   "source": [
    "model.compile(optimizer='rmsprop', \n",
    "              loss='binary_crossentropy', \n",
    "              metrics=['accuracy'])"
   ]
  },
  {
   "cell_type": "markdown",
   "metadata": {},
   "source": [
    "We have to monitor the model by using a validation set, let's create it:"
   ]
  },
  {
   "cell_type": "code",
   "execution_count": 88,
   "metadata": {},
   "outputs": [],
   "source": [
    "x_val = x_train[:10000]\n",
    "partial_x_train = x_train[10000:]\n",
    "\n",
    "y_val = y_train[:10000]\n",
    "partial_y_train = y_train[10000:]"
   ]
  },
  {
   "cell_type": "markdown",
   "metadata": {},
   "source": [
    "Now we train the model for 20 epochs, in mini-batches of 512 samples. During the training we monitor the loss and accuracy on the validation data. "
   ]
  },
  {
   "cell_type": "code",
   "execution_count": 89,
   "metadata": {},
   "outputs": [
    {
     "name": "stdout",
     "output_type": "stream",
     "text": [
      "Train on 15000 samples, validate on 10000 samples\n",
      "Epoch 1/20\n",
      "15000/15000 [==============================] - 10s 694us/step - loss: 0.4975 - acc: 0.7956 - val_loss: 0.3716 - val_acc: 0.8718\n",
      "Epoch 2/20\n",
      "15000/15000 [==============================] - 3s 225us/step - loss: 0.2958 - acc: 0.9048 - val_loss: 0.2991 - val_acc: 0.8907\n",
      "Epoch 3/20\n",
      "15000/15000 [==============================] - 3s 195us/step - loss: 0.2160 - acc: 0.9286 - val_loss: 0.3082 - val_acc: 0.8719\n",
      "Epoch 4/20\n",
      "15000/15000 [==============================] - 3s 178us/step - loss: 0.1742 - acc: 0.9431 - val_loss: 0.2832 - val_acc: 0.8840\n",
      "Epoch 5/20\n",
      "15000/15000 [==============================] - 3s 180us/step - loss: 0.1415 - acc: 0.9541 - val_loss: 0.2862 - val_acc: 0.8852\n",
      "Epoch 6/20\n",
      "15000/15000 [==============================] - 3s 184us/step - loss: 0.1143 - acc: 0.9653 - val_loss: 0.3091 - val_acc: 0.8808\n",
      "Epoch 7/20\n",
      "15000/15000 [==============================] - 3s 179us/step - loss: 0.0970 - acc: 0.9710 - val_loss: 0.3147 - val_acc: 0.8843\n",
      "Epoch 8/20\n",
      "15000/15000 [==============================] - 3s 184us/step - loss: 0.0803 - acc: 0.9765 - val_loss: 0.3869 - val_acc: 0.8658\n",
      "Epoch 9/20\n",
      "15000/15000 [==============================] - 3s 183us/step - loss: 0.0658 - acc: 0.9821 - val_loss: 0.3649 - val_acc: 0.8775\n",
      "Epoch 10/20\n",
      "15000/15000 [==============================] - 3s 184us/step - loss: 0.0553 - acc: 0.9851 - val_loss: 0.3863 - val_acc: 0.8790\n",
      "Epoch 11/20\n",
      "15000/15000 [==============================] - 3s 187us/step - loss: 0.0455 - acc: 0.9885 - val_loss: 0.4183 - val_acc: 0.8760\n",
      "Epoch 12/20\n",
      "15000/15000 [==============================] - 3s 184us/step - loss: 0.0386 - acc: 0.9913 - val_loss: 0.4522 - val_acc: 0.8699\n",
      "Epoch 13/20\n",
      "15000/15000 [==============================] - 3s 185us/step - loss: 0.0297 - acc: 0.9940 - val_loss: 0.4715 - val_acc: 0.8733\n",
      "Epoch 14/20\n",
      "15000/15000 [==============================] - 3s 183us/step - loss: 0.0244 - acc: 0.9949 - val_loss: 0.5025 - val_acc: 0.8719\n",
      "Epoch 15/20\n",
      "15000/15000 [==============================] - 3s 180us/step - loss: 0.0185 - acc: 0.9975 - val_loss: 0.5321 - val_acc: 0.8696\n",
      "Epoch 16/20\n",
      "15000/15000 [==============================] - 3s 182us/step - loss: 0.0157 - acc: 0.9980 - val_loss: 0.5723 - val_acc: 0.8689\n",
      "Epoch 17/20\n",
      "15000/15000 [==============================] - 3s 201us/step - loss: 0.0141 - acc: 0.9975 - val_loss: 0.6004 - val_acc: 0.8683\n",
      "Epoch 18/20\n",
      "15000/15000 [==============================] - 3s 209us/step - loss: 0.0094 - acc: 0.9993 - val_loss: 0.6281 - val_acc: 0.8676\n",
      "Epoch 19/20\n",
      "15000/15000 [==============================] - 3s 184us/step - loss: 0.0086 - acc: 0.9989 - val_loss: 0.6633 - val_acc: 0.8665\n",
      "Epoch 20/20\n",
      "15000/15000 [==============================] - 3s 189us/step - loss: 0.0073 - acc: 0.9991 - val_loss: 0.7006 - val_acc: 0.8657\n",
      "Elapsed 64.797 seconds.\n"
     ]
    }
   ],
   "source": [
    "start = time.perf_counter()\n",
    "\n",
    "history = model.fit(partial_x_train, \n",
    "                    partial_y_train, \n",
    "                    epochs=20,\n",
    "                    batch_size=512,\n",
    "                    validation_data=(x_val, y_val))\n",
    "\n",
    "elapsed = time.perf_counter() - start\n",
    "print('Elapsed %.3f seconds.' % elapsed)"
   ]
  },
  {
   "cell_type": "markdown",
   "metadata": {},
   "source": [
    "GPU: 58.579 seconds.  \n",
    "CPU: 56.818 seconds.  \n",
    "Not much difference\n",
    "\n",
    "As we saved the output of `model.fit()` in the variable `history`, we can plot the metrics for the training and validation set. "
   ]
  },
  {
   "cell_type": "code",
   "execution_count": 90,
   "metadata": {},
   "outputs": [
    {
     "data": {
      "text/plain": [
       "dict_keys(['val_loss', 'val_acc', 'loss', 'acc'])"
      ]
     },
     "execution_count": 90,
     "metadata": {},
     "output_type": "execute_result"
    }
   ],
   "source": [
    "import matplotlib.pyplot as plt\n",
    "\n",
    "history_dict = history.history\n",
    "history_dict.keys()"
   ]
  },
  {
   "cell_type": "code",
   "execution_count": 91,
   "metadata": {},
   "outputs": [
    {
     "data": {
      "image/png": "[encoded data removed]",
      "text/plain": [
       "<Figure size 432x288 with 1 Axes>"
      ]
     },
     "metadata": {
      "needs_background": "light"
     },
     "output_type": "display_data"
    }
   ],
   "source": [
    "history_dict = history.history\n",
    "loss_values = history_dict['loss']\n",
    "val_loss_values = history_dict['val_loss']\n",
    "epochs = range(1, len(loss_values) + 1)\n",
    "plt.plot(epochs, loss_values, 'bo', label='Training loss')\n",
    "plt.plot(epochs, val_loss_values, 'r*', label='Validation loss')\n",
    "plt.title('Training and validation loss')\n",
    "plt.xlabel('Epochs')\n",
    "plt.ylabel('Loss')\n",
    "plt.legend()\n",
    "plt.show()"
   ]
  },
  {
   "cell_type": "markdown",
   "metadata": {},
   "source": [
    "Now for the accuracy:"
   ]
  },
  {
   "cell_type": "code",
   "execution_count": 92,
   "metadata": {},
   "outputs": [
    {
     "data": {
      "image/png": "[encoded data removed]",
      "text/plain": [
       "<Figure size 432x288 with 1 Axes>"
      ]
     },
     "metadata": {
      "needs_background": "light"
     },
     "output_type": "display_data"
    }
   ],
   "source": [
    "plt.clf()\n",
    "acc_values = history_dict['acc']\n",
    "val_acc_values = history_dict['val_acc']\n",
    "plt.plot(epochs, acc_values, 'bo', label='Training acc')\n",
    "plt.plot(epochs, val_acc_values, 'r*', label='Validation acc')\n",
    "plt.title('Training and validation accuracy')\n",
    "plt.xlabel('Epochs')\n",
    "plt.ylabel('Accuracy')\n",
    "plt.legend()\n",
    "plt.show()"
   ]
  },
  {
   "cell_type": "markdown",
   "metadata": {},
   "source": [
    "We can see that our model is overfitting the data. Its metrics are good for the training data, but are poor for the validation data. We can see that after the third epoch, the model decreases the accuracy and increases the losses for the validation data. We could stop the training at that point to get better results.  \n",
    "\n",
    "Let's see that, and evaluate the model with the test data."
   ]
  },
  {
   "cell_type": "code",
   "execution_count": 93,
   "metadata": {},
   "outputs": [
    {
     "name": "stdout",
     "output_type": "stream",
     "text": [
      "Epoch 1/4\n",
      "25000/25000 [==============================] - 4s 156us/step - loss: 0.4750 - acc: 0.8218\n",
      "Epoch 2/4\n",
      "25000/25000 [==============================] - 3s 136us/step - loss: 0.2655 - acc: 0.9098\n",
      "Epoch 3/4\n",
      "25000/25000 [==============================] - 3s 131us/step - loss: 0.1984 - acc: 0.9298\n",
      "Epoch 4/4\n",
      "25000/25000 [==============================] - 3s 128us/step - loss: 0.1676 - acc: 0.9405\n",
      "25000/25000 [==============================] - 7s 262us/step\n"
     ]
    }
   ],
   "source": [
    "model = models.Sequential()\n",
    "model.add(layers.Dense(16, activation='relu', input_shape=(10000,)))\n",
    "model.add(layers.Dense(16, activation='relu'))\n",
    "model.add(layers.Dense(1, activation='sigmoid'))\n",
    "model.compile(optimizer='rmsprop',\n",
    "loss='binary_crossentropy',\n",
    "metrics=['accuracy'])\n",
    "model.fit(x_train, y_train, epochs=4, batch_size=512)\n",
    "results = model.evaluate(x_test, y_test)"
   ]
  },
  {
   "cell_type": "code",
   "execution_count": 94,
   "metadata": {},
   "outputs": [
    {
     "data": {
      "text/plain": [
       "[0.3221880063533783, 0.87336]"
      ]
     },
     "execution_count": 94,
     "metadata": {},
     "output_type": "execute_result"
    }
   ],
   "source": [
    "# now we see the loss function and the accuracy\n",
    "results"
   ]
  },
  {
   "cell_type": "markdown",
   "metadata": {},
   "source": [
    "We have an accuracy of about 87%."
   ]
  },
  {
   "cell_type": "code",
   "execution_count": 95,
   "metadata": {},
   "outputs": [
    {
     "data": {
      "text/plain": [
       "array([[0.1380194 ],\n",
       "       [0.99969363],\n",
       "       [0.30750525],\n",
       "       ...,\n",
       "       [0.07190071],\n",
       "       [0.04400926],\n",
       "       [0.47793925]], dtype=float32)"
      ]
     },
     "execution_count": 95,
     "metadata": {},
     "output_type": "execute_result"
    }
   ],
   "source": [
    "model.predict(x_test)"
   ]
  },
  {
   "cell_type": "markdown",
   "metadata": {},
   "source": [
    "Let's try different variations to the same classification problem.\n",
    "\n",
    "First, let's change the number of hidden layers,  \n",
    "**3 layers:**"
   ]
  },
  {
   "cell_type": "code",
   "execution_count": 96,
   "metadata": {},
   "outputs": [
    {
     "name": "stdout",
     "output_type": "stream",
     "text": [
      "Train on 15000 samples, validate on 10000 samples\n",
      "Epoch 1/20\n",
      "15000/15000 [==============================] - 5s 306us/step - loss: 0.5262 - acc: 0.7700 - val_loss: 0.3951 - val_acc: 0.8583\n",
      "Epoch 2/20\n",
      "15000/15000 [==============================] - 3s 188us/step - loss: 0.3033 - acc: 0.9028 - val_loss: 0.3373 - val_acc: 0.8630\n",
      "Epoch 3/20\n",
      "15000/15000 [==============================] - 3s 181us/step - loss: 0.2191 - acc: 0.9271 - val_loss: 0.3223 - val_acc: 0.8688\n",
      "Epoch 4/20\n",
      "15000/15000 [==============================] - 3s 207us/step - loss: 0.1719 - acc: 0.9433 - val_loss: 0.2767 - val_acc: 0.8885\n",
      "Epoch 5/20\n",
      "15000/15000 [==============================] - 3s 182us/step - loss: 0.1369 - acc: 0.9560 - val_loss: 0.2973 - val_acc: 0.8842\n",
      "Epoch 6/20\n",
      "15000/15000 [==============================] - 3s 184us/step - loss: 0.1113 - acc: 0.9643 - val_loss: 0.3079 - val_acc: 0.8842\n",
      "Epoch 7/20\n",
      "15000/15000 [==============================] - 3s 203us/step - loss: 0.0911 - acc: 0.9729 - val_loss: 0.3770 - val_acc: 0.8693\n",
      "Epoch 8/20\n",
      "15000/15000 [==============================] - 3s 192us/step - loss: 0.0707 - acc: 0.9797 - val_loss: 0.3561 - val_acc: 0.8791\n",
      "Epoch 9/20\n",
      "15000/15000 [==============================] - 3s 184us/step - loss: 0.0582 - acc: 0.9843 - val_loss: 0.4239 - val_acc: 0.8686\n",
      "Epoch 10/20\n",
      "15000/15000 [==============================] - 3s 181us/step - loss: 0.0492 - acc: 0.9871 - val_loss: 0.4119 - val_acc: 0.8784\n",
      "Epoch 11/20\n",
      "15000/15000 [==============================] - 3s 193us/step - loss: 0.0365 - acc: 0.9903 - val_loss: 0.4514 - val_acc: 0.8761\n",
      "Epoch 12/20\n",
      "15000/15000 [==============================] - 3s 192us/step - loss: 0.0337 - acc: 0.9911 - val_loss: 0.4814 - val_acc: 0.8722\n",
      "Epoch 13/20\n",
      "15000/15000 [==============================] - 3s 188us/step - loss: 0.0169 - acc: 0.9981 - val_loss: 0.5360 - val_acc: 0.8673\n",
      "Epoch 14/20\n",
      "15000/15000 [==============================] - 3s 183us/step - loss: 0.0209 - acc: 0.9947 - val_loss: 0.5405 - val_acc: 0.8733\n",
      "Epoch 15/20\n",
      "15000/15000 [==============================] - 3s 181us/step - loss: 0.0213 - acc: 0.9939 - val_loss: 0.5781 - val_acc: 0.8695\n",
      "Epoch 16/20\n",
      "15000/15000 [==============================] - 3s 182us/step - loss: 0.0060 - acc: 0.9997 - val_loss: 0.6062 - val_acc: 0.8694\n",
      "Epoch 17/20\n",
      "15000/15000 [==============================] - 3s 194us/step - loss: 0.0137 - acc: 0.9963 - val_loss: 0.6436 - val_acc: 0.8692\n",
      "Epoch 18/20\n",
      "15000/15000 [==============================] - 3s 199us/step - loss: 0.0032 - acc: 0.9998 - val_loss: 0.6861 - val_acc: 0.8661\n",
      "Epoch 19/20\n",
      "15000/15000 [==============================] - 3s 188us/step - loss: 0.0102 - acc: 0.9973 - val_loss: 0.7155 - val_acc: 0.8681\n",
      "Epoch 20/20\n",
      "15000/15000 [==============================] - 3s 188us/step - loss: 0.0018 - acc: 0.9999 - val_loss: 0.7392 - val_acc: 0.8678\n",
      "25000/25000 [==============================] - 3s 138us/step\n"
     ]
    }
   ],
   "source": [
    "model = models.Sequential()\n",
    "model.add(layers.Dense(16, activation='relu', input_shape=(10000,)))\n",
    "model.add(layers.Dense(16, activation='relu'))\n",
    "model.add(layers.Dense(16, activation='relu'))\n",
    "model.add(layers.Dense(1, activation='sigmoid'))\n",
    "model.compile(optimizer='rmsprop', \n",
    "              loss='binary_crossentropy',\n",
    "              metrics=['accuracy'])\n",
    "history = model.fit(partial_x_train, partial_y_train, epochs=20, batch_size=512, validation_data=(x_val, y_val))\n",
    "results = model.evaluate(x_test, y_test)"
   ]
  },
  {
   "cell_type": "markdown",
   "metadata": {},
   "source": [
    "Let's plot the loss and accuracy over training and validation data"
   ]
  },
  {
   "cell_type": "code",
   "execution_count": 97,
   "metadata": {},
   "outputs": [
    {
     "data": {
      "image/png": "[encoded data removed]",
      "text/plain": [
       "<Figure size 432x288 with 1 Axes>"
      ]
     },
     "metadata": {
      "needs_background": "light"
     },
     "output_type": "display_data"
    }
   ],
   "source": [
    "history_dict = history.history\n",
    "loss_values = history_dict['loss']\n",
    "val_loss_values = history_dict['val_loss']\n",
    "epochs = range(1, len(loss_values) + 1)\n",
    "plt.plot(epochs, loss_values, 'bo', label='Training loss')\n",
    "plt.plot(epochs, val_loss_values, 'r*', label='Validation loss')\n",
    "plt.title('Training and validation loss')\n",
    "plt.xlabel('Epochs')\n",
    "plt.ylabel('Loss')\n",
    "plt.legend()\n",
    "plt.show()"
   ]
  },
  {
   "cell_type": "code",
   "execution_count": 98,
   "metadata": {},
   "outputs": [
    {
     "data": {
      "image/png": "[encoded data removed]",
      "text/plain": [
       "<Figure size 432x288 with 1 Axes>"
      ]
     },
     "metadata": {
      "needs_background": "light"
     },
     "output_type": "display_data"
    }
   ],
   "source": [
    "plt.clf()\n",
    "acc_values = history_dict['acc']\n",
    "val_acc_values = history_dict['val_acc']\n",
    "plt.plot(epochs, acc_values, 'bo', label='Training acc')\n",
    "plt.plot(epochs, val_acc_values, 'r*', label='Validation acc')\n",
    "plt.title('Training and validation accuracy')\n",
    "plt.xlabel('Epochs')\n",
    "plt.ylabel('Accuracy')\n",
    "plt.legend()\n",
    "plt.show()"
   ]
  },
  {
   "cell_type": "markdown",
   "metadata": {},
   "source": [
    "This looks much better than the previous model with 2 hidden layers. There is no clear overfitting when evaluating the model on the validation data set."
   ]
  },
  {
   "cell_type": "code",
   "execution_count": 99,
   "metadata": {},
   "outputs": [
    {
     "data": {
      "text/plain": [
       "[0.8232948909592629, 0.85072]"
      ]
     },
     "execution_count": 99,
     "metadata": {},
     "output_type": "execute_result"
    }
   ],
   "source": [
    "results"
   ]
  },
  {
   "cell_type": "markdown",
   "metadata": {},
   "source": [
    "However, the accuracy over the test data is much lower, we have of about 84%. This might be overfitting again. \n",
    "\n",
    "Let's try with **1 hidden layer**:"
   ]
  },
  {
   "cell_type": "code",
   "execution_count": 100,
   "metadata": {},
   "outputs": [
    {
     "name": "stdout",
     "output_type": "stream",
     "text": [
      "Train on 15000 samples, validate on 10000 samples\n",
      "Epoch 1/20\n",
      "15000/15000 [==============================] - 4s 243us/step - loss: 0.5076 - acc: 0.8041 - val_loss: 0.4061 - val_acc: 0.8553\n",
      "Epoch 2/20\n",
      "15000/15000 [==============================] - 3s 185us/step - loss: 0.3288 - acc: 0.8993 - val_loss: 0.3270 - val_acc: 0.8849\n",
      "Epoch 3/20\n",
      "15000/15000 [==============================] - 3s 184us/step - loss: 0.2537 - acc: 0.9243 - val_loss: 0.2928 - val_acc: 0.8894\n",
      "Epoch 4/20\n",
      "15000/15000 [==============================] - 3s 183us/step - loss: 0.2096 - acc: 0.9357 - val_loss: 0.2796 - val_acc: 0.8912\n",
      "Epoch 5/20\n",
      "15000/15000 [==============================] - 3s 181us/step - loss: 0.1764 - acc: 0.9475 - val_loss: 0.2793 - val_acc: 0.8895\n",
      "Epoch 6/20\n",
      "15000/15000 [==============================] - 3s 182us/step - loss: 0.1529 - acc: 0.9549 - val_loss: 0.2742 - val_acc: 0.8899\n",
      "Epoch 7/20\n",
      "15000/15000 [==============================] - 3s 189us/step - loss: 0.1338 - acc: 0.9604 - val_loss: 0.2875 - val_acc: 0.8831\n",
      "Epoch 8/20\n",
      "15000/15000 [==============================] - 3s 182us/step - loss: 0.1181 - acc: 0.9655 - val_loss: 0.2927 - val_acc: 0.8811\n",
      "Epoch 9/20\n",
      "15000/15000 [==============================] - 3s 191us/step - loss: 0.1038 - acc: 0.9719 - val_loss: 0.3121 - val_acc: 0.8819\n",
      "Epoch 10/20\n",
      "15000/15000 [==============================] - 3s 183us/step - loss: 0.0927 - acc: 0.9757 - val_loss: 0.3086 - val_acc: 0.8803\n",
      "Epoch 11/20\n",
      "15000/15000 [==============================] - 3s 184us/step - loss: 0.0818 - acc: 0.9791 - val_loss: 0.3248 - val_acc: 0.8820\n",
      "Epoch 12/20\n",
      "15000/15000 [==============================] - 3s 184us/step - loss: 0.0725 - acc: 0.9827 - val_loss: 0.3270 - val_acc: 0.8815\n",
      "Epoch 13/20\n",
      "15000/15000 [==============================] - 3s 185us/step - loss: 0.0644 - acc: 0.9850 - val_loss: 0.3420 - val_acc: 0.8785\n",
      "Epoch 14/20\n",
      "15000/15000 [==============================] - 3s 184us/step - loss: 0.0575 - acc: 0.9879 - val_loss: 0.3671 - val_acc: 0.8787\n",
      "Epoch 15/20\n",
      "15000/15000 [==============================] - 3s 186us/step - loss: 0.0505 - acc: 0.9903 - val_loss: 0.3697 - val_acc: 0.8768\n",
      "Epoch 16/20\n",
      "15000/15000 [==============================] - 3s 194us/step - loss: 0.0450 - acc: 0.9911 - val_loss: 0.3965 - val_acc: 0.8771\n",
      "Epoch 17/20\n",
      "15000/15000 [==============================] - 3s 183us/step - loss: 0.0392 - acc: 0.9933 - val_loss: 0.4011 - val_acc: 0.8736\n",
      "Epoch 18/20\n",
      "15000/15000 [==============================] - 3s 184us/step - loss: 0.0350 - acc: 0.9939 - val_loss: 0.4181 - val_acc: 0.8749\n",
      "Epoch 19/20\n",
      "15000/15000 [==============================] - 3s 184us/step - loss: 0.0302 - acc: 0.9955 - val_loss: 0.4364 - val_acc: 0.8730\n",
      "Epoch 20/20\n",
      "15000/15000 [==============================] - 3s 184us/step - loss: 0.0267 - acc: 0.9960 - val_loss: 0.4768 - val_acc: 0.8641\n",
      "25000/25000 [==============================] - 3s 132us/step\n"
     ]
    }
   ],
   "source": [
    "model = models.Sequential()\n",
    "model.add(layers.Dense(16, activation='relu', input_shape=(10000,)))\n",
    "model.add(layers.Dense(1, activation='sigmoid'))\n",
    "model.compile(optimizer='rmsprop', \n",
    "              loss='binary_crossentropy',\n",
    "              metrics=['accuracy'])\n",
    "history = model.fit(partial_x_train, partial_y_train, epochs=20, batch_size=512, validation_data=(x_val, y_val))\n",
    "results = model.evaluate(x_test, y_test)"
   ]
  },
  {
   "cell_type": "code",
   "execution_count": 101,
   "metadata": {},
   "outputs": [
    {
     "data": {
      "image/png": "[encoded data removed]",
      "text/plain": [
       "<Figure size 432x288 with 1 Axes>"
      ]
     },
     "metadata": {
      "needs_background": "light"
     },
     "output_type": "display_data"
    }
   ],
   "source": [
    "history_dict = history.history\n",
    "loss_values = history_dict['loss']\n",
    "val_loss_values = history_dict['val_loss']\n",
    "epochs = range(1, len(loss_values) + 1)\n",
    "plt.plot(epochs, loss_values, 'bo', label='Training loss')\n",
    "plt.plot(epochs, val_loss_values, 'r*', label='Validation loss')\n",
    "plt.title('Training and validation loss')\n",
    "plt.xlabel('Epochs')\n",
    "plt.ylabel('Loss')\n",
    "plt.legend()\n",
    "plt.show()"
   ]
  },
  {
   "cell_type": "code",
   "execution_count": 102,
   "metadata": {},
   "outputs": [
    {
     "data": {
      "image/png": "[encoded data removed]",
      "text/plain": [
       "<Figure size 432x288 with 1 Axes>"
      ]
     },
     "metadata": {
      "needs_background": "light"
     },
     "output_type": "display_data"
    }
   ],
   "source": [
    "plt.clf()\n",
    "acc_values = history_dict['acc']\n",
    "val_acc_values = history_dict['val_acc']\n",
    "plt.plot(epochs, acc_values, 'bo', label='Training acc')\n",
    "plt.plot(epochs, val_acc_values, 'r*', label='Validation acc')\n",
    "plt.title('Training and validation accuracy')\n",
    "plt.xlabel('Epochs')\n",
    "plt.ylabel('Accuracy')\n",
    "plt.legend()\n",
    "plt.show()"
   ]
  },
  {
   "cell_type": "code",
   "execution_count": 103,
   "metadata": {},
   "outputs": [
    {
     "data": {
      "text/plain": [
       "[0.5308870345258713, 0.84964]"
      ]
     },
     "execution_count": 103,
     "metadata": {},
     "output_type": "execute_result"
    }
   ],
   "source": [
    "results"
   ]
  },
  {
   "cell_type": "markdown",
   "metadata": {},
   "source": [
    "We obtained a similar result compared to the model with 3 hidden layers. \n",
    "\n",
    "Now, let's repeat the model with 2 hidden layers, but lets change the number of hidden unit:"
   ]
  },
  {
   "cell_type": "code",
   "execution_count": 104,
   "metadata": {},
   "outputs": [
    {
     "name": "stdout",
     "output_type": "stream",
     "text": [
      "Train on 15000 samples, validate on 10000 samples\n",
      "Epoch 1/20\n",
      "15000/15000 [==============================] - 4s 265us/step - loss: 0.4826 - acc: 0.7744 - val_loss: 0.3378 - val_acc: 0.8758\n",
      "Epoch 2/20\n",
      "15000/15000 [==============================] - 3s 206us/step - loss: 0.2620 - acc: 0.9111 - val_loss: 0.3008 - val_acc: 0.8794\n",
      "Epoch 3/20\n",
      "15000/15000 [==============================] - 3s 206us/step - loss: 0.1953 - acc: 0.9297 - val_loss: 0.2738 - val_acc: 0.8909\n",
      "Epoch 4/20\n",
      "15000/15000 [==============================] - 3s 205us/step - loss: 0.1536 - acc: 0.9453 - val_loss: 0.2957 - val_acc: 0.8857\n",
      "Epoch 5/20\n",
      "15000/15000 [==============================] - 3s 205us/step - loss: 0.1195 - acc: 0.9592 - val_loss: 0.3026 - val_acc: 0.8841\n",
      "Epoch 6/20\n",
      "15000/15000 [==============================] - 3s 205us/step - loss: 0.0988 - acc: 0.9670 - val_loss: 0.3279 - val_acc: 0.8811\n",
      "Epoch 7/20\n",
      "15000/15000 [==============================] - 3s 207us/step - loss: 0.0769 - acc: 0.9758 - val_loss: 0.3499 - val_acc: 0.8814\n",
      "Epoch 8/20\n",
      "15000/15000 [==============================] - 3s 206us/step - loss: 0.0548 - acc: 0.9841 - val_loss: 0.4020 - val_acc: 0.8789\n",
      "Epoch 9/20\n",
      "15000/15000 [==============================] - 3s 205us/step - loss: 0.0528 - acc: 0.9833 - val_loss: 0.4166 - val_acc: 0.8778\n",
      "Epoch 10/20\n",
      "15000/15000 [==============================] - 3s 207us/step - loss: 0.0309 - acc: 0.9931 - val_loss: 0.5358 - val_acc: 0.8533\n",
      "Epoch 11/20\n",
      "15000/15000 [==============================] - 3s 206us/step - loss: 0.0333 - acc: 0.9913 - val_loss: 0.4821 - val_acc: 0.8717\n",
      "Epoch 12/20\n",
      "15000/15000 [==============================] - 3s 205us/step - loss: 0.0172 - acc: 0.9968 - val_loss: 0.6341 - val_acc: 0.8451\n",
      "Epoch 13/20\n",
      "15000/15000 [==============================] - 3s 207us/step - loss: 0.0144 - acc: 0.9979 - val_loss: 0.5434 - val_acc: 0.8725\n",
      "Epoch 14/20\n",
      "15000/15000 [==============================] - 3s 205us/step - loss: 0.0134 - acc: 0.9965 - val_loss: 0.5840 - val_acc: 0.8650\n",
      "Epoch 15/20\n",
      "15000/15000 [==============================] - 3s 206us/step - loss: 0.0048 - acc: 0.9998 - val_loss: 0.6291 - val_acc: 0.8697\n",
      "Epoch 16/20\n",
      "15000/15000 [==============================] - 3s 208us/step - loss: 0.0122 - acc: 0.9963 - val_loss: 0.6547 - val_acc: 0.8688\n",
      "Epoch 17/20\n",
      "15000/15000 [==============================] - 3s 207us/step - loss: 0.0021 - acc: 0.9999 - val_loss: 0.6845 - val_acc: 0.8684\n",
      "Epoch 18/20\n",
      "15000/15000 [==============================] - 3s 206us/step - loss: 0.0043 - acc: 0.9989 - val_loss: 0.7389 - val_acc: 0.8654\n",
      "Epoch 19/20\n",
      "15000/15000 [==============================] - 3s 221us/step - loss: 0.0011 - acc: 1.0000 - val_loss: 0.7599 - val_acc: 0.8684\n",
      "Epoch 20/20\n",
      "15000/15000 [==============================] - 3s 218us/step - loss: 8.2195e-04 - acc: 0.9999 - val_loss: 1.2043 - val_acc: 0.8284\n",
      "25000/25000 [==============================] - 4s 159us/step\n"
     ]
    }
   ],
   "source": [
    "model = models.Sequential()\n",
    "model.add(layers.Dense(32, activation='relu', input_shape=(10000,)))\n",
    "model.add(layers.Dense(32, activation='relu'))\n",
    "model.add(layers.Dense(1, activation='sigmoid'))\n",
    "model.compile(optimizer='rmsprop', \n",
    "              loss='binary_crossentropy',\n",
    "              metrics=['accuracy'])\n",
    "history = model.fit(partial_x_train, partial_y_train, epochs=20, batch_size=512, validation_data=(x_val, y_val))\n",
    "results = model.evaluate(x_test, y_test)"
   ]
  },
  {
   "cell_type": "code",
   "execution_count": 105,
   "metadata": {},
   "outputs": [
    {
     "data": {
      "image/png": "[encoded data removed]",
      "text/plain": [
       "<Figure size 432x288 with 1 Axes>"
      ]
     },
     "metadata": {
      "needs_background": "light"
     },
     "output_type": "display_data"
    }
   ],
   "source": [
    "history_dict = history.history\n",
    "loss_values = history_dict['loss']\n",
    "val_loss_values = history_dict['val_loss']\n",
    "epochs = range(1, len(loss_values) + 1)\n",
    "plt.plot(epochs, loss_values, 'bo', label='Training loss')\n",
    "plt.plot(epochs, val_loss_values, 'r*', label='Validation loss')\n",
    "plt.title('Training and validation loss')\n",
    "plt.xlabel('Epochs')\n",
    "plt.ylabel('Loss')\n",
    "plt.legend()\n",
    "plt.show()"
   ]
  },
  {
   "cell_type": "code",
   "execution_count": 106,
   "metadata": {},
   "outputs": [
    {
     "data": {
      "image/png": "[encoded data removed]",
      "text/plain": [
       "<Figure size 432x288 with 1 Axes>"
      ]
     },
     "metadata": {
      "needs_background": "light"
     },
     "output_type": "display_data"
    }
   ],
   "source": [
    "plt.clf()\n",
    "acc_values = history_dict['acc']\n",
    "val_acc_values = history_dict['val_acc']\n",
    "plt.plot(epochs, acc_values, 'bo', label='Training acc')\n",
    "plt.plot(epochs, val_acc_values, 'r*', label='Validation acc')\n",
    "plt.title('Training and validation accuracy')\n",
    "plt.xlabel('Epochs')\n",
    "plt.ylabel('Accuracy')\n",
    "plt.legend()\n",
    "plt.show()"
   ]
  },
  {
   "cell_type": "code",
   "execution_count": 107,
   "metadata": {},
   "outputs": [
    {
     "data": {
      "text/plain": [
       "[1.2456739521598816, 0.81696]"
      ]
     },
     "execution_count": 107,
     "metadata": {},
     "output_type": "execute_result"
    }
   ],
   "source": [
    "results"
   ]
  },
  {
   "cell_type": "markdown",
   "metadata": {},
   "source": [
    "Similar accuracy on the test data.\n",
    "\n",
    "Lets change the model to **64 units** per hidden layer"
   ]
  },
  {
   "cell_type": "code",
   "execution_count": 108,
   "metadata": {},
   "outputs": [
    {
     "name": "stdout",
     "output_type": "stream",
     "text": [
      "Train on 15000 samples, validate on 10000 samples\n",
      "Epoch 1/20\n",
      "15000/15000 [==============================] - 6s 414us/step - loss: 0.4850 - acc: 0.7781 - val_loss: 0.3857 - val_acc: 0.8387\n",
      "Epoch 2/20\n",
      "15000/15000 [==============================] - 4s 271us/step - loss: 0.2650 - acc: 0.8986 - val_loss: 0.3479 - val_acc: 0.8595\n",
      "Epoch 3/20\n",
      "15000/15000 [==============================] - 4s 260us/step - loss: 0.1889 - acc: 0.9311 - val_loss: 0.2882 - val_acc: 0.8863\n",
      "Epoch 4/20\n",
      "15000/15000 [==============================] - 4s 266us/step - loss: 0.1324 - acc: 0.9533 - val_loss: 0.3407 - val_acc: 0.8740\n",
      "Epoch 5/20\n",
      "15000/15000 [==============================] - 4s 259us/step - loss: 0.1116 - acc: 0.9587 - val_loss: 0.3382 - val_acc: 0.8785\n",
      "Epoch 6/20\n",
      "15000/15000 [==============================] - 4s 261us/step - loss: 0.0784 - acc: 0.9749 - val_loss: 0.3426 - val_acc: 0.8851\n",
      "Epoch 7/20\n",
      "15000/15000 [==============================] - 4s 261us/step - loss: 0.0569 - acc: 0.9819 - val_loss: 0.3771 - val_acc: 0.8817\n",
      "Epoch 8/20\n",
      "15000/15000 [==============================] - 4s 262us/step - loss: 0.0488 - acc: 0.9849 - val_loss: 0.4036 - val_acc: 0.8797\n",
      "Epoch 9/20\n",
      "15000/15000 [==============================] - 4s 265us/step - loss: 0.0143 - acc: 0.9983 - val_loss: 0.4692 - val_acc: 0.8781\n",
      "Epoch 10/20\n",
      "15000/15000 [==============================] - 4s 262us/step - loss: 0.0443 - acc: 0.9867 - val_loss: 0.4887 - val_acc: 0.8782\n",
      "Epoch 11/20\n",
      "15000/15000 [==============================] - 4s 260us/step - loss: 0.0049 - acc: 0.9997 - val_loss: 0.5397 - val_acc: 0.8753\n",
      "Epoch 12/20\n",
      "15000/15000 [==============================] - 4s 260us/step - loss: 0.0346 - acc: 0.9899 - val_loss: 0.5688 - val_acc: 0.8729\n",
      "Epoch 13/20\n",
      "15000/15000 [==============================] - 4s 261us/step - loss: 0.0021 - acc: 0.9999 - val_loss: 0.6043 - val_acc: 0.8746\n",
      "Epoch 14/20\n",
      "15000/15000 [==============================] - 4s 259us/step - loss: 0.0014 - acc: 0.9999 - val_loss: 0.6662 - val_acc: 0.8711\n",
      "Epoch 15/20\n",
      "15000/15000 [==============================] - 4s 259us/step - loss: 0.0307 - acc: 0.9919 - val_loss: 0.6886 - val_acc: 0.8725\n",
      "Epoch 16/20\n",
      "15000/15000 [==============================] - 4s 261us/step - loss: 5.9287e-04 - acc: 1.0000 - val_loss: 0.7090 - val_acc: 0.8724\n",
      "Epoch 17/20\n",
      "15000/15000 [==============================] - 4s 275us/step - loss: 3.7194e-04 - acc: 1.0000 - val_loss: 0.7494 - val_acc: 0.8721\n",
      "Epoch 18/20\n",
      "15000/15000 [==============================] - 4s 262us/step - loss: 2.3481e-04 - acc: 1.0000 - val_loss: 0.8297 - val_acc: 0.8691\n",
      "Epoch 19/20\n",
      "15000/15000 [==============================] - 4s 261us/step - loss: 0.0440 - acc: 0.9925 - val_loss: 0.8137 - val_acc: 0.8702\n",
      "Epoch 20/20\n",
      "15000/15000 [==============================] - 4s 264us/step - loss: 1.1851e-04 - acc: 1.0000 - val_loss: 0.8286 - val_acc: 0.8704\n",
      "25000/25000 [==============================] - 5s 209us/step\n"
     ]
    }
   ],
   "source": [
    "model = models.Sequential()\n",
    "model.add(layers.Dense(64, activation='relu', input_shape=(10000,)))\n",
    "model.add(layers.Dense(64, activation='relu'))\n",
    "model.add(layers.Dense(1, activation='sigmoid'))\n",
    "model.compile(optimizer='rmsprop', \n",
    "              loss='binary_crossentropy',\n",
    "              metrics=['accuracy'])\n",
    "history = model.fit(partial_x_train, partial_y_train, epochs=20, batch_size=512, validation_data=(x_val, y_val))\n",
    "results = model.evaluate(x_test, y_test)"
   ]
  },
  {
   "cell_type": "code",
   "execution_count": 109,
   "metadata": {},
   "outputs": [
    {
     "data": {
      "image/png": "[encoded data removed]",
      "text/plain": [
       "<Figure size 432x288 with 1 Axes>"
      ]
     },
     "metadata": {
      "needs_background": "light"
     },
     "output_type": "display_data"
    }
   ],
   "source": [
    "history_dict = history.history\n",
    "loss_values = history_dict['loss']\n",
    "val_loss_values = history_dict['val_loss']\n",
    "epochs = range(1, len(loss_values) + 1)\n",
    "plt.plot(epochs, loss_values, 'bo', label='Training loss')\n",
    "plt.plot(epochs, val_loss_values, 'r*', label='Validation loss')\n",
    "plt.title('Training and validation loss')\n",
    "plt.xlabel('Epochs')\n",
    "plt.ylabel('Loss')\n",
    "plt.legend()\n",
    "plt.show()"
   ]
  },
  {
   "cell_type": "code",
   "execution_count": 110,
   "metadata": {},
   "outputs": [
    {
     "data": {
      "image/png": "[encoded data removed]",
      "text/plain": [
       "<Figure size 432x288 with 1 Axes>"
      ]
     },
     "metadata": {
      "needs_background": "light"
     },
     "output_type": "display_data"
    }
   ],
   "source": [
    "plt.clf()\n",
    "acc_values = history_dict['acc']\n",
    "val_acc_values = history_dict['val_acc']\n",
    "plt.plot(epochs, acc_values, 'bo', label='Training acc')\n",
    "plt.plot(epochs, val_acc_values, 'r*', label='Validation acc')\n",
    "plt.title('Training and validation accuracy')\n",
    "plt.xlabel('Epochs')\n",
    "plt.ylabel('Accuracy')\n",
    "plt.legend()\n",
    "plt.show()"
   ]
  },
  {
   "cell_type": "code",
   "execution_count": 111,
   "metadata": {},
   "outputs": [
    {
     "data": {
      "text/plain": [
       "[0.9204900858849288, 0.85608]"
      ]
     },
     "execution_count": 111,
     "metadata": {},
     "output_type": "execute_result"
    }
   ],
   "source": [
    "results"
   ]
  },
  {
   "cell_type": "markdown",
   "metadata": {},
   "source": [
    "85% accuracy on the test data.\n",
    "\n",
    "Now the model will have a different loss function (**mse**), but with the original **16 units** per hidden layer "
   ]
  },
  {
   "cell_type": "code",
   "execution_count": 112,
   "metadata": {},
   "outputs": [
    {
     "name": "stdout",
     "output_type": "stream",
     "text": [
      "Train on 15000 samples, validate on 10000 samples\n",
      "Epoch 1/20\n",
      "15000/15000 [==============================] - 4s 257us/step - loss: 0.1741 - acc: 0.7902 - val_loss: 0.1239 - val_acc: 0.8683\n",
      "Epoch 2/20\n",
      "15000/15000 [==============================] - 3s 188us/step - loss: 0.0950 - acc: 0.9029 - val_loss: 0.0947 - val_acc: 0.8890\n",
      "Epoch 3/20\n",
      "15000/15000 [==============================] - 3s 184us/step - loss: 0.0669 - acc: 0.9292 - val_loss: 0.0857 - val_acc: 0.8915\n",
      "Epoch 4/20\n",
      "15000/15000 [==============================] - 3s 183us/step - loss: 0.0526 - acc: 0.9433 - val_loss: 0.0861 - val_acc: 0.8849\n",
      "Epoch 5/20\n",
      "15000/15000 [==============================] - 3s 182us/step - loss: 0.0424 - acc: 0.9574 - val_loss: 0.0827 - val_acc: 0.8894\n",
      "Epoch 6/20\n",
      "15000/15000 [==============================] - 3s 185us/step - loss: 0.0348 - acc: 0.9644 - val_loss: 0.0863 - val_acc: 0.8827\n",
      "Epoch 7/20\n",
      "15000/15000 [==============================] - 3s 182us/step - loss: 0.0289 - acc: 0.9714 - val_loss: 0.0871 - val_acc: 0.8824\n",
      "Epoch 8/20\n",
      "15000/15000 [==============================] - 3s 181us/step - loss: 0.0243 - acc: 0.9771 - val_loss: 0.0933 - val_acc: 0.8744\n",
      "Epoch 9/20\n",
      "15000/15000 [==============================] - 3s 182us/step - loss: 0.0208 - acc: 0.9813 - val_loss: 0.0898 - val_acc: 0.8787\n",
      "Epoch 10/20\n",
      "15000/15000 [==============================] - 3s 230us/step - loss: 0.0171 - acc: 0.9857 - val_loss: 0.0940 - val_acc: 0.8738\n",
      "Epoch 11/20\n",
      "15000/15000 [==============================] - 4s 249us/step - loss: 0.0141 - acc: 0.9887 - val_loss: 0.0953 - val_acc: 0.8738\n",
      "Epoch 12/20\n",
      "15000/15000 [==============================] - 3s 231us/step - loss: 0.0124 - acc: 0.9906 - val_loss: 0.0961 - val_acc: 0.8738\n",
      "Epoch 13/20\n",
      "15000/15000 [==============================] - 3s 214us/step - loss: 0.0103 - acc: 0.9919 - val_loss: 0.0985 - val_acc: 0.8719\n",
      "Epoch 14/20\n",
      "15000/15000 [==============================] - 3s 198us/step - loss: 0.0087 - acc: 0.9936 - val_loss: 0.0999 - val_acc: 0.8713\n",
      "Epoch 15/20\n",
      "15000/15000 [==============================] - 3s 200us/step - loss: 0.0078 - acc: 0.9940 - val_loss: 0.1041 - val_acc: 0.8674\n",
      "Epoch 16/20\n",
      "15000/15000 [==============================] - 3s 199us/step - loss: 0.0065 - acc: 0.9951 - val_loss: 0.1043 - val_acc: 0.8678\n",
      "Epoch 17/20\n",
      "15000/15000 [==============================] - 3s 184us/step - loss: 0.0065 - acc: 0.9945 - val_loss: 0.1058 - val_acc: 0.8686\n",
      "Epoch 18/20\n",
      "15000/15000 [==============================] - 3s 184us/step - loss: 0.0042 - acc: 0.9968 - val_loss: 0.1089 - val_acc: 0.8644\n",
      "Epoch 19/20\n",
      "15000/15000 [==============================] - 3s 186us/step - loss: 0.0056 - acc: 0.9948 - val_loss: 0.1092 - val_acc: 0.8662\n",
      "Epoch 20/20\n",
      "15000/15000 [==============================] - 3s 182us/step - loss: 0.0035 - acc: 0.9970 - val_loss: 0.1105 - val_acc: 0.8645\n",
      "25000/25000 [==============================] - 3s 136us/step\n"
     ]
    }
   ],
   "source": [
    "model = models.Sequential()\n",
    "model.add(layers.Dense(16, activation='relu', input_shape=(10000,)))\n",
    "model.add(layers.Dense(16, activation='relu'))\n",
    "model.add(layers.Dense(1, activation='sigmoid'))\n",
    "model.compile(optimizer='rmsprop', \n",
    "              loss='mse',\n",
    "              metrics=['accuracy'])\n",
    "history = model.fit(partial_x_train, partial_y_train, epochs=20, batch_size=512, validation_data=(x_val, y_val))\n",
    "results = model.evaluate(x_test, y_test)"
   ]
  },
  {
   "cell_type": "code",
   "execution_count": 113,
   "metadata": {},
   "outputs": [
    {
     "data": {
      "image/png": "[encoded data removed]",
      "text/plain": [
       "<Figure size 432x288 with 1 Axes>"
      ]
     },
     "metadata": {
      "needs_background": "light"
     },
     "output_type": "display_data"
    }
   ],
   "source": [
    "history_dict = history.history\n",
    "loss_values = history_dict['loss']\n",
    "val_loss_values = history_dict['val_loss']\n",
    "epochs = range(1, len(loss_values) + 1)\n",
    "plt.plot(epochs, loss_values, 'bo', label='Training loss')\n",
    "plt.plot(epochs, val_loss_values, 'r*', label='Validation loss')\n",
    "plt.title('Training and validation loss')\n",
    "plt.xlabel('Epochs')\n",
    "plt.ylabel('Loss')\n",
    "plt.legend()\n",
    "plt.show()"
   ]
  },
  {
   "cell_type": "code",
   "execution_count": 114,
   "metadata": {},
   "outputs": [
    {
     "data": {
      "image/png": "[encoded data removed]",
      "text/plain": [
       "<Figure size 432x288 with 1 Axes>"
      ]
     },
     "metadata": {
      "needs_background": "light"
     },
     "output_type": "display_data"
    }
   ],
   "source": [
    "plt.clf()\n",
    "acc_values = history_dict['acc']\n",
    "val_acc_values = history_dict['val_acc']\n",
    "plt.plot(epochs, acc_values, 'bo', label='Training acc')\n",
    "plt.plot(epochs, val_acc_values, 'r*', label='Validation acc')\n",
    "plt.title('Training and validation accuracy')\n",
    "plt.xlabel('Epochs')\n",
    "plt.ylabel('Accuracy')\n",
    "plt.legend()\n",
    "plt.show()"
   ]
  },
  {
   "cell_type": "code",
   "execution_count": 115,
   "metadata": {},
   "outputs": [
    {
     "data": {
      "text/plain": [
       "[0.121407424710989, 0.85132]"
      ]
     },
     "execution_count": 115,
     "metadata": {},
     "output_type": "execute_result"
    }
   ],
   "source": [
    "results"
   ]
  },
  {
   "cell_type": "markdown",
   "metadata": {},
   "source": [
    "### Regularization methods\n",
    "\n",
    "Lets compare what happens when changing the models capacity to extreme values, to get a clear under and overfitting."
   ]
  },
  {
   "cell_type": "code",
   "execution_count": 117,
   "metadata": {},
   "outputs": [
    {
     "name": "stdout",
     "output_type": "stream",
     "text": [
      "Train on 15000 samples, validate on 10000 samples\n",
      "Epoch 1/15\n",
      "15000/15000 [==============================] - 4s 260us/step - loss: 0.5179 - acc: 0.7929 - val_loss: 0.3935 - val_acc: 0.8678\n",
      "Epoch 2/15\n",
      "15000/15000 [==============================] - 3s 189us/step - loss: 0.3128 - acc: 0.9025 - val_loss: 0.3173 - val_acc: 0.8821\n",
      "Epoch 3/15\n",
      "15000/15000 [==============================] - 3s 179us/step - loss: 0.2281 - acc: 0.9275 - val_loss: 0.2864 - val_acc: 0.8865\n",
      "Epoch 4/15\n",
      "15000/15000 [==============================] - 3s 180us/step - loss: 0.1827 - acc: 0.9409 - val_loss: 0.2763 - val_acc: 0.8905\n",
      "Epoch 5/15\n",
      "15000/15000 [==============================] - 3s 190us/step - loss: 0.1450 - acc: 0.9549 - val_loss: 0.2971 - val_acc: 0.8829\n",
      "Epoch 6/15\n",
      "15000/15000 [==============================] - 3s 186us/step - loss: 0.1221 - acc: 0.9631 - val_loss: 0.2912 - val_acc: 0.8863\n",
      "Epoch 7/15\n",
      "15000/15000 [==============================] - 3s 185us/step - loss: 0.1024 - acc: 0.9694 - val_loss: 0.3153 - val_acc: 0.8809\n",
      "Epoch 8/15\n",
      "15000/15000 [==============================] - 3s 184us/step - loss: 0.0845 - acc: 0.9765 - val_loss: 0.3318 - val_acc: 0.8779\n",
      "Epoch 9/15\n",
      "15000/15000 [==============================] - 3s 184us/step - loss: 0.0714 - acc: 0.9812 - val_loss: 0.3520 - val_acc: 0.8769\n",
      "Epoch 10/15\n",
      "15000/15000 [==============================] - 3s 183us/step - loss: 0.0593 - acc: 0.9854 - val_loss: 0.3712 - val_acc: 0.8771\n",
      "Epoch 11/15\n",
      "15000/15000 [==============================] - 3s 185us/step - loss: 0.0499 - acc: 0.9887 - val_loss: 0.3985 - val_acc: 0.8734\n",
      "Epoch 12/15\n",
      "15000/15000 [==============================] - 3s 180us/step - loss: 0.0395 - acc: 0.9913 - val_loss: 0.4257 - val_acc: 0.8722\n",
      "Epoch 13/15\n",
      "15000/15000 [==============================] - 3s 188us/step - loss: 0.0327 - acc: 0.9933 - val_loss: 0.4744 - val_acc: 0.8738\n",
      "Epoch 14/15\n",
      "15000/15000 [==============================] - 3s 185us/step - loss: 0.0267 - acc: 0.9949 - val_loss: 0.5384 - val_acc: 0.8651\n",
      "Epoch 15/15\n",
      "15000/15000 [==============================] - 3s 188us/step - loss: 0.0217 - acc: 0.9961 - val_loss: 0.5185 - val_acc: 0.8715\n"
     ]
    }
   ],
   "source": [
    "# Original model\n",
    "model = models.Sequential()\n",
    "model.add(layers.Dense(16, activation='relu', input_shape=(10000,)))\n",
    "model.add(layers.Dense(16, activation='relu'))\n",
    "model.add(layers.Dense(1, activation='sigmoid'))\n",
    "model.compile(optimizer='rmsprop',\n",
    "              loss='binary_crossentropy',\n",
    "              metrics=['accuracy'])\n",
    "history = model.fit(partial_x_train, partial_y_train, epochs=15, batch_size=512, validation_data=(x_val, y_val))"
   ]
  },
  {
   "cell_type": "code",
   "execution_count": 119,
   "metadata": {},
   "outputs": [
    {
     "data": {
      "image/png": "[encoded data removed]",
      "text/plain": [
       "<Figure size 432x288 with 1 Axes>"
      ]
     },
     "metadata": {
      "needs_background": "light"
     },
     "output_type": "display_data"
    }
   ],
   "source": [
    "history_dict_original = history.history\n",
    "loss_values_original = history_dict_original['loss']\n",
    "val_loss_values_original = history_dict_original['val_loss']\n",
    "epochs = range(1, len(loss_values) + 1)\n",
    "plt.plot(epochs, loss_values_original, 'bo', label='Training loss')\n",
    "plt.plot(epochs, val_loss_values_original, 'r*', label='Validation loss')\n",
    "plt.title('Training and validation loss')\n",
    "plt.xlabel('Epochs')\n",
    "plt.ylabel('Loss')\n",
    "plt.legend()\n",
    "plt.show()"
   ]
  },
  {
   "cell_type": "code",
   "execution_count": 120,
   "metadata": {},
   "outputs": [
    {
     "name": "stdout",
     "output_type": "stream",
     "text": [
      "Train on 15000 samples, validate on 10000 samples\n",
      "Epoch 1/15\n",
      "15000/15000 [==============================] - 4s 252us/step - loss: 0.5886 - acc: 0.7573 - val_loss: 0.5023 - val_acc: 0.8434\n",
      "Epoch 2/15\n",
      "15000/15000 [==============================] - 3s 178us/step - loss: 0.4307 - acc: 0.8867 - val_loss: 0.4057 - val_acc: 0.8699\n",
      "Epoch 3/15\n",
      "15000/15000 [==============================] - 3s 178us/step - loss: 0.3348 - acc: 0.9117 - val_loss: 0.3427 - val_acc: 0.8852\n",
      "Epoch 4/15\n",
      "15000/15000 [==============================] - 3s 174us/step - loss: 0.2714 - acc: 0.9264 - val_loss: 0.3076 - val_acc: 0.8874\n",
      "Epoch 5/15\n",
      "15000/15000 [==============================] - 3s 171us/step - loss: 0.2276 - acc: 0.9367 - val_loss: 0.2880 - val_acc: 0.8884\n",
      "Epoch 6/15\n",
      "15000/15000 [==============================] - 3s 171us/step - loss: 0.1948 - acc: 0.9428 - val_loss: 0.2766 - val_acc: 0.8897loss: 0.1928 - acc\n",
      "Epoch 7/15\n",
      "15000/15000 [==============================] - 3s 171us/step - loss: 0.1699 - acc: 0.9511 - val_loss: 0.2774 - val_acc: 0.8871\n",
      "Epoch 8/15\n",
      "15000/15000 [==============================] - 3s 171us/step - loss: 0.1496 - acc: 0.9567 - val_loss: 0.2733 - val_acc: 0.8889\n",
      "Epoch 9/15\n",
      "15000/15000 [==============================] - 3s 169us/step - loss: 0.1323 - acc: 0.9620 - val_loss: 0.2781 - val_acc: 0.8876\n",
      "Epoch 10/15\n",
      "15000/15000 [==============================] - 3s 169us/step - loss: 0.1182 - acc: 0.9677 - val_loss: 0.2854 - val_acc: 0.8863\n",
      "Epoch 11/15\n",
      "15000/15000 [==============================] - 3s 169us/step - loss: 0.1053 - acc: 0.9716 - val_loss: 0.2906 - val_acc: 0.8862\n",
      "Epoch 12/15\n",
      "15000/15000 [==============================] - 3s 171us/step - loss: 0.0944 - acc: 0.9755 - val_loss: 0.3011 - val_acc: 0.8840\n",
      "Epoch 13/15\n",
      "15000/15000 [==============================] - 3s 174us/step - loss: 0.0841 - acc: 0.9790 - val_loss: 0.3108 - val_acc: 0.8828\n",
      "Epoch 14/15\n",
      "15000/15000 [==============================] - 3s 172us/step - loss: 0.0759 - acc: 0.9813 - val_loss: 0.3238 - val_acc: 0.8806\n",
      "Epoch 15/15\n",
      "15000/15000 [==============================] - 3s 175us/step - loss: 0.0672 - acc: 0.9846 - val_loss: 0.3357 - val_acc: 0.8789\n"
     ]
    }
   ],
   "source": [
    "# A model with fewer parameters\n",
    "model = models.Sequential()\n",
    "model.add(layers.Dense(4, activation='relu', input_shape=(10000,)))\n",
    "model.add(layers.Dense(4, activation='relu'))\n",
    "model.add(layers.Dense(1, activation='sigmoid'))\n",
    "model.compile(optimizer='rmsprop',\n",
    "              loss='binary_crossentropy',\n",
    "              metrics=['accuracy'])\n",
    "history = model.fit(partial_x_train, partial_y_train, epochs=15, batch_size=512, validation_data=(x_val, y_val))"
   ]
  },
  {
   "cell_type": "code",
   "execution_count": 121,
   "metadata": {},
   "outputs": [
    {
     "data": {
      "image/png": "[encoded data removed]",
      "text/plain": [
       "<Figure size 432x288 with 1 Axes>"
      ]
     },
     "metadata": {
      "needs_background": "light"
     },
     "output_type": "display_data"
    }
   ],
   "source": [
    "history_dict_under = history.history\n",
    "loss_values_under = history_dict_under['loss']\n",
    "val_loss_values_under = history_dict_under['val_loss']\n",
    "epochs = range(1, len(loss_values) + 1)\n",
    "plt.plot(epochs, loss_values_under, 'bo', label='Training loss')\n",
    "plt.plot(epochs, val_loss_values_under, 'r*', label='Validation loss')\n",
    "plt.title('Training and validation loss')\n",
    "plt.xlabel('Epochs')\n",
    "plt.ylabel('Loss')\n",
    "plt.legend()\n",
    "plt.show()"
   ]
  },
  {
   "cell_type": "code",
   "execution_count": 122,
   "metadata": {},
   "outputs": [
    {
     "name": "stdout",
     "output_type": "stream",
     "text": [
      "Train on 15000 samples, validate on 10000 samples\n",
      "Epoch 1/15\n",
      "15000/15000 [==============================] - 16s 1ms/step - loss: 0.5492 - acc: 0.7512 - val_loss: 0.3030 - val_acc: 0.8810\n",
      "Epoch 2/15\n",
      "15000/15000 [==============================] - 15s 987us/step - loss: 0.2592 - acc: 0.8960 - val_loss: 0.2693 - val_acc: 0.8881\n",
      "Epoch 3/15\n",
      "15000/15000 [==============================] - 16s 1ms/step - loss: 0.1611 - acc: 0.9375 - val_loss: 0.2705 - val_acc: 0.8899\n",
      "Epoch 4/15\n",
      "15000/15000 [==============================] - 18s 1ms/step - loss: 0.0853 - acc: 0.9722 - val_loss: 0.3520 - val_acc: 0.8898\n",
      "Epoch 5/15\n",
      "15000/15000 [==============================] - 26s 2ms/step - loss: 0.0519 - acc: 0.9900 - val_loss: 0.6043 - val_acc: 0.8429\n",
      "Epoch 6/15\n",
      "15000/15000 [==============================] - 19s 1ms/step - loss: 0.0049 - acc: 0.9997 - val_loss: 0.4719 - val_acc: 0.8884\n",
      "Epoch 7/15\n",
      "15000/15000 [==============================] - 15s 1ms/step - loss: 5.3138e-04 - acc: 1.0000 - val_loss: 0.5560 - val_acc: 0.8884\n",
      "Epoch 8/15\n",
      "15000/15000 [==============================] - 17s 1ms/step - loss: 9.8151e-05 - acc: 1.0000 - val_loss: 0.6344 - val_acc: 0.8874\n",
      "Epoch 9/15\n",
      "15000/15000 [==============================] - 16s 1ms/step - loss: 2.0058e-05 - acc: 1.0000 - val_loss: 0.7077 - val_acc: 0.8852\n",
      "Epoch 10/15\n",
      "15000/15000 [==============================] - 17s 1ms/step - loss: 4.3728e-06 - acc: 1.0000 - val_loss: 0.7619 - val_acc: 0.8870\n",
      "Epoch 11/15\n",
      "15000/15000 [==============================] - 19s 1ms/step - loss: 1.3033e-06 - acc: 1.0000 - val_loss: 0.8042 - val_acc: 0.8864\n",
      "Epoch 12/15\n",
      "15000/15000 [==============================] - 17s 1ms/step - loss: 4.6746e-07 - acc: 1.0000 - val_loss: 0.8493 - val_acc: 0.8859\n",
      "Epoch 13/15\n",
      "15000/15000 [==============================] - 18s 1ms/step - loss: 2.2501e-07 - acc: 1.0000 - val_loss: 0.8845 - val_acc: 0.8858\n",
      "Epoch 14/15\n",
      "15000/15000 [==============================] - 19s 1ms/step - loss: 1.5159e-07 - acc: 1.0000 - val_loss: 0.9037 - val_acc: 0.8863\n",
      "Epoch 15/15\n",
      "15000/15000 [==============================] - 21s 1ms/step - loss: 1.2738e-07 - acc: 1.0000 - val_loss: 0.9184 - val_acc: 0.8864\n"
     ]
    }
   ],
   "source": [
    "# A model with much more parameters\n",
    "model = models.Sequential()\n",
    "model.add(layers.Dense(512, activation='relu', input_shape=(10000,)))\n",
    "model.add(layers.Dense(512, activation='relu'))\n",
    "model.add(layers.Dense(1, activation='sigmoid'))\n",
    "model.compile(optimizer='rmsprop',\n",
    "              loss='binary_crossentropy',\n",
    "              metrics=['accuracy'])\n",
    "history = model.fit(partial_x_train, partial_y_train, epochs=15, batch_size=512, validation_data=(x_val, y_val))"
   ]
  },
  {
   "cell_type": "code",
   "execution_count": 123,
   "metadata": {},
   "outputs": [
    {
     "data": {
      "image/png": "[encoded data removed]",
      "text/plain": [
       "<Figure size 432x288 with 1 Axes>"
      ]
     },
     "metadata": {
      "needs_background": "light"
     },
     "output_type": "display_data"
    }
   ],
   "source": [
    "history_dict_over = history.history\n",
    "loss_values_over = history_dict_over['loss']\n",
    "val_loss_values_over = history_dict_over['val_loss']\n",
    "epochs = range(1, len(loss_values_over) + 1)\n",
    "plt.plot(epochs, loss_values_over, 'bo', label='Training loss')\n",
    "plt.plot(epochs, val_loss_values_over, 'r*', label='Validation loss')\n",
    "plt.title('Training and validation loss')\n",
    "plt.xlabel('Epochs')\n",
    "plt.ylabel('Loss')\n",
    "plt.legend()\n",
    "plt.show()"
   ]
  },
  {
   "cell_type": "markdown",
   "metadata": {},
   "source": [
    "Now, let's compare the loss on the validation data for the three cases "
   ]
  },
  {
   "cell_type": "code",
   "execution_count": 125,
   "metadata": {},
   "outputs": [
    {
     "data": {
      "image/png": "[encoded data removed]",
      "text/plain": [
       "<Figure size 432x288 with 1 Axes>"
      ]
     },
     "metadata": {
      "needs_background": "light"
     },
     "output_type": "display_data"
    }
   ],
   "source": [
    "plt.clf()\n",
    "epochs = range(1, len(loss_values_over) + 1)\n",
    "plt.plot(epochs, val_loss_values_over, 'bo', label='Training loss Overfitting')\n",
    "plt.plot(epochs, val_loss_values_under, 'r*', label='Training loss Underfiting')\n",
    "plt.plot(epochs, val_loss_values_original, 'gs', label='Training loss Original')\n",
    "plt.title('Comparison validation loss')\n",
    "plt.xlabel('Epochs')\n",
    "plt.ylabel('Loss')\n",
    "plt.legend()\n",
    "plt.show()"
   ]
  },
  {
   "cell_type": "markdown",
   "metadata": {},
   "source": [
    "We can see that the more parameters, the faster the overfitting is reached, and the worse it performs after many iterations on the training set. The same comparison can be done on the training loss. "
   ]
  },
  {
   "cell_type": "code",
   "execution_count": 126,
   "metadata": {},
   "outputs": [
    {
     "data": {
      "image/png": "[encoded data removed]",
      "text/plain": [
       "<Figure size 432x288 with 1 Axes>"
      ]
     },
     "metadata": {
      "needs_background": "light"
     },
     "output_type": "display_data"
    }
   ],
   "source": [
    "plt.clf()\n",
    "epochs = range(1, len(loss_values_over) + 1)\n",
    "plt.plot(epochs, loss_values_over, 'bo', label='Training loss Overfitting')\n",
    "plt.plot(epochs, loss_values_under, 'r*', label='Training loss Underfiting')\n",
    "plt.plot(epochs, loss_values_original, 'gs', label='Training loss Original')\n",
    "plt.title('Comparison training loss')\n",
    "plt.xlabel('Epochs')\n",
    "plt.ylabel('Loss')\n",
    "plt.legend()\n",
    "plt.show()"
   ]
  },
  {
   "cell_type": "markdown",
   "metadata": {},
   "source": [
    "The model with more capacity, that shows more overfitting, reaches faster a low loss value. \n",
    "\n",
    "### Adding weight regularization"
   ]
  },
  {
   "cell_type": "code",
   "execution_count": 127,
   "metadata": {},
   "outputs": [],
   "source": [
    "from keras import regularizers"
   ]
  },
  {
   "cell_type": "code",
   "execution_count": 128,
   "metadata": {},
   "outputs": [
    {
     "name": "stdout",
     "output_type": "stream",
     "text": [
      "Train on 15000 samples, validate on 10000 samples\n",
      "Epoch 1/15\n",
      "15000/15000 [==============================] - 4s 278us/step - loss: 0.6132 - acc: 0.7722 - val_loss: 0.4746 - val_acc: 0.8637\n",
      "Epoch 2/15\n",
      "15000/15000 [==============================] - 3s 189us/step - loss: 0.3871 - acc: 0.8918 - val_loss: 0.3932 - val_acc: 0.8626\n",
      "Epoch 3/15\n",
      "15000/15000 [==============================] - 3s 195us/step - loss: 0.3047 - acc: 0.9147 - val_loss: 0.3400 - val_acc: 0.8873\n",
      "Epoch 4/15\n",
      "15000/15000 [==============================] - 3s 184us/step - loss: 0.2641 - acc: 0.9289 - val_loss: 0.3310 - val_acc: 0.8891\n",
      "Epoch 5/15\n",
      "15000/15000 [==============================] - 3s 178us/step - loss: 0.2390 - acc: 0.9401 - val_loss: 0.3481 - val_acc: 0.8822\n",
      "Epoch 6/15\n",
      "15000/15000 [==============================] - 3s 181us/step - loss: 0.2243 - acc: 0.9437 - val_loss: 0.3403 - val_acc: 0.8843\n",
      "Epoch 7/15\n",
      "15000/15000 [==============================] - 3s 180us/step - loss: 0.2136 - acc: 0.9479 - val_loss: 0.3414 - val_acc: 0.8838\n",
      "Epoch 8/15\n",
      "15000/15000 [==============================] - 3s 180us/step - loss: 0.2001 - acc: 0.9558 - val_loss: 0.3479 - val_acc: 0.8827\n",
      "Epoch 9/15\n",
      "15000/15000 [==============================] - 3s 184us/step - loss: 0.1957 - acc: 0.9554 - val_loss: 0.3543 - val_acc: 0.8810\n",
      "Epoch 10/15\n",
      "15000/15000 [==============================] - 3s 189us/step - loss: 0.1844 - acc: 0.9614 - val_loss: 0.3773 - val_acc: 0.8748\n",
      "Epoch 11/15\n",
      "15000/15000 [==============================] - 3s 184us/step - loss: 0.1820 - acc: 0.9605 - val_loss: 0.3790 - val_acc: 0.8792\n",
      "Epoch 12/15\n",
      "15000/15000 [==============================] - 3s 180us/step - loss: 0.1738 - acc: 0.9652 - val_loss: 0.3871 - val_acc: 0.8788\n",
      "Epoch 13/15\n",
      "15000/15000 [==============================] - 3s 194us/step - loss: 0.1723 - acc: 0.9655 - val_loss: 0.3867 - val_acc: 0.8757\n",
      "Epoch 14/15\n",
      "15000/15000 [==============================] - 3s 190us/step - loss: 0.1651 - acc: 0.9673 - val_loss: 0.4006 - val_acc: 0.8765\n",
      "Epoch 15/15\n",
      "15000/15000 [==============================] - 3s 191us/step - loss: 0.1620 - acc: 0.9684 - val_loss: 0.4388 - val_acc: 0.8678\n"
     ]
    }
   ],
   "source": [
    "# A model with L2 regularization (cost is proportional to the square of the value of the NN parameters)\n",
    "model = models.Sequential()\n",
    "model.add(layers.Dense(16, kernel_regularizer=regularizers.l2(0.001), activation='relu', input_shape=(10000,)))\n",
    "model.add(layers.Dense(16, kernel_regularizer=regularizers.l2(0.001), activation='relu'))\n",
    "model.add(layers.Dense(1, activation='sigmoid'))\n",
    "model.compile(optimizer='rmsprop',\n",
    "              loss='binary_crossentropy',\n",
    "              metrics=['accuracy'])\n",
    "history = model.fit(partial_x_train, partial_y_train, epochs=15, batch_size=512, validation_data=(x_val, y_val))"
   ]
  },
  {
   "cell_type": "code",
   "execution_count": 129,
   "metadata": {},
   "outputs": [],
   "source": [
    "history_dict_l2reg = history.history\n",
    "loss_values_l2reg = history_dict_l2reg['loss']\n",
    "val_loss_values_l2reg = history_dict_l2reg['val_loss']"
   ]
  },
  {
   "cell_type": "code",
   "execution_count": 130,
   "metadata": {},
   "outputs": [
    {
     "data": {
      "image/png": "[encoded data removed]",
      "text/plain": [
       "<Figure size 432x288 with 1 Axes>"
      ]
     },
     "metadata": {
      "needs_background": "light"
     },
     "output_type": "display_data"
    }
   ],
   "source": [
    "epochs = range(1, len(loss_values_over) + 1)\n",
    "plt.plot(epochs, val_loss_values_original, 'bo', label='Val loss Original')\n",
    "plt.plot(epochs, val_loss_values_l2reg, 'r*', label='Val loss L2 Regularized')\n",
    "plt.title('Comparison validation loss regularized')\n",
    "plt.xlabel('Epochs')\n",
    "plt.ylabel('Loss')\n",
    "plt.legend()\n",
    "plt.show()"
   ]
  },
  {
   "cell_type": "markdown",
   "metadata": {},
   "source": [
    "We can see the regularized model overfits less than the original model, even though they have the same number of parameters (capacity).\n",
    "\n",
    "### Adding dropout"
   ]
  },
  {
   "cell_type": "code",
   "execution_count": 131,
   "metadata": {},
   "outputs": [
    {
     "name": "stdout",
     "output_type": "stream",
     "text": [
      "Train on 15000 samples, validate on 10000 samples\n",
      "Epoch 1/15\n",
      "15000/15000 [==============================] - 5s 324us/step - loss: 0.6303 - acc: 0.6445 - val_loss: 0.5429 - val_acc: 0.8331\n",
      "Epoch 2/15\n",
      "15000/15000 [==============================] - 3s 189us/step - loss: 0.5202 - acc: 0.7713 - val_loss: 0.4456 - val_acc: 0.8572\n",
      "Epoch 3/15\n",
      "15000/15000 [==============================] - 3s 184us/step - loss: 0.4429 - acc: 0.8311 - val_loss: 0.3956 - val_acc: 0.8614\n",
      "Epoch 4/15\n",
      "15000/15000 [==============================] - 3s 184us/step - loss: 0.3810 - acc: 0.8715 - val_loss: 0.3517 - val_acc: 0.8811\n",
      "Epoch 5/15\n",
      "15000/15000 [==============================] - 3s 182us/step - loss: 0.3413 - acc: 0.8889 - val_loss: 0.3253 - val_acc: 0.8824\n",
      "Epoch 6/15\n",
      "15000/15000 [==============================] - 3s 183us/step - loss: 0.2964 - acc: 0.9085 - val_loss: 0.3170 - val_acc: 0.8834\n",
      "Epoch 7/15\n",
      "15000/15000 [==============================] - 3s 184us/step - loss: 0.2682 - acc: 0.9224 - val_loss: 0.3322 - val_acc: 0.8822\n",
      "Epoch 8/15\n",
      "15000/15000 [==============================] - 3s 183us/step - loss: 0.2410 - acc: 0.9328 - val_loss: 0.3250 - val_acc: 0.8846\n",
      "Epoch 9/15\n",
      "15000/15000 [==============================] - 3s 181us/step - loss: 0.2151 - acc: 0.9412 - val_loss: 0.3373 - val_acc: 0.8837\n",
      "Epoch 10/15\n",
      "15000/15000 [==============================] - 3s 186us/step - loss: 0.1954 - acc: 0.9481 - val_loss: 0.3601 - val_acc: 0.8820\n",
      "Epoch 11/15\n",
      "15000/15000 [==============================] - 3s 188us/step - loss: 0.1744 - acc: 0.9529 - val_loss: 0.3513 - val_acc: 0.8824\n",
      "Epoch 12/15\n",
      "15000/15000 [==============================] - 3s 191us/step - loss: 0.1607 - acc: 0.9564 - val_loss: 0.3542 - val_acc: 0.8789\n",
      "Epoch 13/15\n",
      "15000/15000 [==============================] - 3s 187us/step - loss: 0.1513 - acc: 0.9605 - val_loss: 0.4088 - val_acc: 0.8805\n",
      "Epoch 14/15\n",
      "15000/15000 [==============================] - 3s 184us/step - loss: 0.1355 - acc: 0.9643 - val_loss: 0.4127 - val_acc: 0.8811\n",
      "Epoch 15/15\n",
      "15000/15000 [==============================] - 3s 188us/step - loss: 0.1260 - acc: 0.9666 - val_loss: 0.4340 - val_acc: 0.8800\n"
     ]
    }
   ],
   "source": [
    "# A model with 0.5 rate dropout\n",
    "model = models.Sequential()\n",
    "model.add(layers.Dense(16, activation='relu', input_shape=(10000,)))\n",
    "model.add(layers.Dropout(0.5))\n",
    "model.add(layers.Dense(16, activation='relu'))\n",
    "model.add(layers.Dropout(0.5))\n",
    "model.add(layers.Dense(1, activation='sigmoid'))\n",
    "model.compile(optimizer='rmsprop',\n",
    "              loss='binary_crossentropy',\n",
    "              metrics=['accuracy'])\n",
    "history = model.fit(partial_x_train, partial_y_train, epochs=15, batch_size=512, validation_data=(x_val, y_val))"
   ]
  },
  {
   "cell_type": "code",
   "execution_count": 132,
   "metadata": {},
   "outputs": [],
   "source": [
    "history_dict_drop = history.history\n",
    "loss_values_drop = history_dict_drop['loss']\n",
    "val_loss_values_drop = history_dict_drop['val_loss']"
   ]
  },
  {
   "cell_type": "code",
   "execution_count": 133,
   "metadata": {},
   "outputs": [
    {
     "data": {
      "image/png": "[encoded data removed]",
      "text/plain": [
       "<Figure size 432x288 with 1 Axes>"
      ]
     },
     "metadata": {
      "needs_background": "light"
     },
     "output_type": "display_data"
    }
   ],
   "source": [
    "epochs = range(1, len(loss_values_over) + 1)\n",
    "plt.plot(epochs, val_loss_values_original, 'bo', label='Val loss Original')\n",
    "plt.plot(epochs, val_loss_values_drop, 'r*', label='Val loss Dropout')\n",
    "plt.title('Comparison validation loss dropout')\n",
    "plt.xlabel('Epochs')\n",
    "plt.ylabel('Loss')\n",
    "plt.legend()\n",
    "plt.show()"
   ]
  },
  {
   "cell_type": "markdown",
   "metadata": {},
   "source": [
    "Again, we see the regularized model performs better."
   ]
  },
  {
   "cell_type": "code",
   "execution_count": null,
   "metadata": {},
   "outputs": [],
   "source": []
  }
 ],
 "metadata": {
  "kernelspec": {
   "display_name": "Python 3",
   "language": "python",
   "name": "python3"
  },
  "language_info": {
   "codemirror_mode": {
    "name": "ipython",
    "version": 3
   },
   "file_extension": ".py",
   "mimetype": "text/x-python",
   "name": "python",
   "nbconvert_exporter": "python",
   "pygments_lexer": "ipython3",
   "version": "3.6.10"
  }
 },
 "nbformat": 4,
 "nbformat_minor": 4
}
