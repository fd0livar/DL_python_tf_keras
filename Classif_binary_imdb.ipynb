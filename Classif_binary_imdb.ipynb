{
 "cells": [
  {
   "cell_type": "markdown",
   "metadata": {},
   "source": [
    "Let's work in a binary classification problem, using the imdb dataset"
   ]
  },
  {
   "cell_type": "code",
   "execution_count": 1,
   "metadata": {},
   "outputs": [],
   "source": [
    "# this first two lines are for deactivating the GPU usage\n",
    "import os\n",
    "os.environ[\"CUDA_VISIBLE_DEVICES\"]=\"-1\"\n",
    "#----------------------------------------\n",
    "import numpy as np\n",
    "import time"
   ]
  },
  {
   "cell_type": "code",
   "execution_count": 2,
   "metadata": {},
   "outputs": [
    {
     "name": "stderr",
     "output_type": "stream",
     "text": [
      "Using TensorFlow backend.\n"
     ]
    }
   ],
   "source": [
    "from keras.datasets import imdb\n",
    "\n",
    "(train_data, train_labels), (test_data, test_labels) = imdb.load_data(num_words=10000)"
   ]
  },
  {
   "cell_type": "markdown",
   "metadata": {},
   "source": [
    "Had to downgrade numpy to `1.16.1`, to get rid of the error:  \n",
    "`Object arrays cannot be loaded when allow_pickle=False`"
   ]
  },
  {
   "cell_type": "code",
   "execution_count": 3,
   "metadata": {},
   "outputs": [
    {
     "data": {
      "text/plain": [
       "(25000,)"
      ]
     },
     "execution_count": 3,
     "metadata": {},
     "output_type": "execute_result"
    }
   ],
   "source": [
    "train_data.shape"
   ]
  },
  {
   "cell_type": "code",
   "execution_count": 4,
   "metadata": {},
   "outputs": [
    {
     "data": {
      "text/plain": [
       "(25000,)"
      ]
     },
     "execution_count": 4,
     "metadata": {},
     "output_type": "execute_result"
    }
   ],
   "source": [
    "train_labels.shape"
   ]
  },
  {
   "cell_type": "markdown",
   "metadata": {},
   "source": [
    "The data is a list of reviews, converted to indices encoded from a dictionary. We can select the most frequently used words with the `num_words` parameter. The variable `test_labels` is binary, a value of `1` corresponds to a positive review, and `0` for a negative one. \n",
    "\n",
    "For example, to get a review back to english we can do: "
   ]
  },
  {
   "cell_type": "code",
   "execution_count": 5,
   "metadata": {},
   "outputs": [],
   "source": [
    "word_index = imdb.get_word_index()\n",
    "reverse_word_index = dict([(value, key) for (key, value) in word_index.items()])\n",
    "decoded_review = ' '.join([reverse_word_index.get(i - 3, '!') for i in train_data[0]])"
   ]
  },
  {
   "cell_type": "code",
   "execution_count": 6,
   "metadata": {},
   "outputs": [
    {
     "data": {
      "text/plain": [
       "\"! this film was just brilliant casting location scenery story direction everyone's really suited the part they played and you could just imagine being there robert ! is an amazing actor and now the same being director ! father came from the same scottish island as myself so i loved the fact there was a real connection with this film the witty remarks throughout the film were great it was just brilliant so much that i bought the film as soon as it was released for ! and would recommend it to everyone to watch and the fly fishing was amazing really cried at the end it was so sad and you know what they say if you cry at a film it must have been good and this definitely was also ! to the two little boy's that played the ! of norman and paul they were just brilliant children are often left out of the ! list i think because the stars that play them all grown up are such a big profile for the whole film but these children are amazing and should be praised for what they have done don't you think the whole story was so lovely because it was true and was someone's life after all that was shared with us all\""
      ]
     },
     "execution_count": 6,
     "metadata": {},
     "output_type": "execute_result"
    }
   ],
   "source": [
    "decoded_review"
   ]
  },
  {
   "cell_type": "markdown",
   "metadata": {},
   "source": [
    "The shift in the `.get` method is due to the way the data in built. The first 3 positions are  the indices for 'padding', 'start of sequence' and 'unknown' \n",
    "\n",
    "### Preparing the data\n",
    "\n",
    "As we can't pass list of integer to a NN, we have to transform them into tensors. Let's one-hot encode them, this converts them to vectors of 1s and 0s.  "
   ]
  },
  {
   "cell_type": "code",
   "execution_count": 7,
   "metadata": {},
   "outputs": [
    {
     "name": "stdout",
     "output_type": "stream",
     "text": [
      "Elapsed 2.182 seconds.\n"
     ]
    }
   ],
   "source": [
    "start = time.perf_counter()\n",
    "def vectorize_sequences(sequences, dimension=10000):\n",
    "    results = np.zeros((len(sequences), dimension))\n",
    "    for i, sequence in enumerate(sequences):\n",
    "        results[i, sequence] = 1.\n",
    "    return results\n",
    "\n",
    "x_train = vectorize_sequences(train_data)\n",
    "x_test = vectorize_sequences(test_data)\n",
    "elapsed = time.perf_counter() - start\n",
    "print('Elapsed %.3f seconds.' % elapsed)"
   ]
  },
  {
   "cell_type": "code",
   "execution_count": 8,
   "metadata": {},
   "outputs": [
    {
     "data": {
      "text/plain": [
       "array([0., 1., 1., ..., 0., 0., 0.])"
      ]
     },
     "execution_count": 8,
     "metadata": {},
     "output_type": "execute_result"
    }
   ],
   "source": [
    "x_train[0]"
   ]
  },
  {
   "cell_type": "code",
   "execution_count": 9,
   "metadata": {},
   "outputs": [
    {
     "data": {
      "text/plain": [
       "(25000, 10000)"
      ]
     },
     "execution_count": 9,
     "metadata": {},
     "output_type": "execute_result"
    }
   ],
   "source": [
    "x_train.shape"
   ]
  },
  {
   "cell_type": "code",
   "execution_count": 10,
   "metadata": {},
   "outputs": [],
   "source": [
    "# Now we do the same for the labels\n",
    "y_train = np.asarray(train_labels).astype('float32')\n",
    "y_test = np.asarray(test_labels).astype('float32')"
   ]
  },
  {
   "cell_type": "markdown",
   "metadata": {},
   "source": [
    "### Building the network"
   ]
  },
  {
   "cell_type": "code",
   "execution_count": 11,
   "metadata": {},
   "outputs": [],
   "source": [
    "from keras import models\n",
    "from keras import layers"
   ]
  },
  {
   "cell_type": "code",
   "execution_count": 12,
   "metadata": {},
   "outputs": [],
   "source": [
    "model = models.Sequential()\n",
    "model.add(layers.Dense(16, activation='relu', input_shape=(10000, )))\n",
    "model.add(layers.Dense(16, activation='relu'))\n",
    "model.add(layers.Dense(1, activation='sigmoid'))"
   ]
  },
  {
   "cell_type": "markdown",
   "metadata": {},
   "source": [
    "The `relu` activation function is defined as `x = max(x, 0)`. It is like a `simplifed` sigmoid centered at 0. \n",
    "And the `sigmoid` activation maps the output to a probability value.\n",
    "\n",
    "Now we compile the model, and give the 3 important parameters: optimizer method, loss function and metrics used. "
   ]
  },
  {
   "cell_type": "code",
   "execution_count": 13,
   "metadata": {},
   "outputs": [],
   "source": [
    "model.compile(optimizer='rmsprop', \n",
    "              loss='binary_crossentropy', \n",
    "              metrics=['accuracy'])"
   ]
  },
  {
   "cell_type": "markdown",
   "metadata": {},
   "source": [
    "We have to monitor the model by using a validation set, let's create it:"
   ]
  },
  {
   "cell_type": "code",
   "execution_count": 14,
   "metadata": {},
   "outputs": [],
   "source": [
    "x_val = x_train[:10000]\n",
    "partial_x_train = x_train[10000:]\n",
    "\n",
    "y_val = y_train[:10000]\n",
    "partial_y_train = y_train[10000:]"
   ]
  },
  {
   "cell_type": "markdown",
   "metadata": {},
   "source": [
    "Now we train the model for 20 epochs, in mini-batches of 512 samples. During the training we monitor the loss and accuracy on the validation data. "
   ]
  },
  {
   "cell_type": "code",
   "execution_count": 15,
   "metadata": {},
   "outputs": [
    {
     "name": "stdout",
     "output_type": "stream",
     "text": [
      "Train on 15000 samples, validate on 10000 samples\n",
      "Epoch 1/20\n",
      "15000/15000 [==============================] - 3s 231us/step - loss: 0.5084 - acc: 0.7813 - val_loss: 0.3797 - val_acc: 0.8685\n",
      "Epoch 2/20\n",
      "15000/15000 [==============================] - 3s 178us/step - loss: 0.3004 - acc: 0.9047 - val_loss: 0.3004 - val_acc: 0.8897\n",
      "Epoch 3/20\n",
      "15000/15000 [==============================] - 3s 178us/step - loss: 0.2179 - acc: 0.9285 - val_loss: 0.3087 - val_acc: 0.8712\n",
      "Epoch 4/20\n",
      "15000/15000 [==============================] - 3s 175us/step - loss: 0.1750 - acc: 0.9438 - val_loss: 0.2840 - val_acc: 0.8833\n",
      "Epoch 5/20\n",
      "15000/15000 [==============================] - 3s 178us/step - loss: 0.1427 - acc: 0.9542 - val_loss: 0.2841 - val_acc: 0.8872\n",
      "Epoch 6/20\n",
      "15000/15000 [==============================] - 3s 182us/step - loss: 0.1150 - acc: 0.9651 - val_loss: 0.3162 - val_acc: 0.8771\n",
      "Epoch 7/20\n",
      "15000/15000 [==============================] - 3s 180us/step - loss: 0.0980 - acc: 0.9706 - val_loss: 0.3127 - val_acc: 0.8844\n",
      "Epoch 8/20\n",
      "15000/15000 [==============================] - 3s 191us/step - loss: 0.0807 - acc: 0.9763 - val_loss: 0.3860 - val_acc: 0.8648\n",
      "Epoch 9/20\n",
      "15000/15000 [==============================] - 3s 191us/step - loss: 0.0660 - acc: 0.9821 - val_loss: 0.3636 - val_acc: 0.8782\n",
      "Epoch 10/20\n",
      "15000/15000 [==============================] - 3s 183us/step - loss: 0.0565 - acc: 0.9851 - val_loss: 0.3841 - val_acc: 0.8801\n",
      "Epoch 11/20\n",
      "15000/15000 [==============================] - 4s 237us/step - loss: 0.0429 - acc: 0.9903 - val_loss: 0.4133 - val_acc: 0.8783\n",
      "Epoch 12/20\n",
      "15000/15000 [==============================] - 3s 182us/step - loss: 0.0376 - acc: 0.9921 - val_loss: 0.4600 - val_acc: 0.8674\n",
      "Epoch 13/20\n",
      "15000/15000 [==============================] - 3s 179us/step - loss: 0.0300 - acc: 0.9930 - val_loss: 0.4710 - val_acc: 0.8730\n",
      "Epoch 14/20\n",
      "15000/15000 [==============================] - 3s 178us/step - loss: 0.0246 - acc: 0.9945 - val_loss: 0.5051 - val_acc: 0.8720\n",
      "Epoch 15/20\n",
      "15000/15000 [==============================] - 3s 184us/step - loss: 0.0187 - acc: 0.9968 - val_loss: 0.5324 - val_acc: 0.8708\n",
      "Epoch 16/20\n",
      "15000/15000 [==============================] - 3s 196us/step - loss: 0.0170 - acc: 0.9968 - val_loss: 0.5657 - val_acc: 0.8687\n",
      "Epoch 17/20\n",
      "15000/15000 [==============================] - 3s 176us/step - loss: 0.0112 - acc: 0.9989 - val_loss: 0.5999 - val_acc: 0.8661\n",
      "Epoch 18/20\n",
      "15000/15000 [==============================] - 3s 175us/step - loss: 0.0127 - acc: 0.9975 - val_loss: 0.6327 - val_acc: 0.8675\n",
      "Epoch 19/20\n",
      "15000/15000 [==============================] - 3s 190us/step - loss: 0.0060 - acc: 0.9997 - val_loss: 0.7298 - val_acc: 0.8540\n",
      "Epoch 20/20\n",
      "15000/15000 [==============================] - 3s 195us/step - loss: 0.0078 - acc: 0.9987 - val_loss: 0.6929 - val_acc: 0.8661\n",
      "Elapsed 56.818 seconds.\n"
     ]
    }
   ],
   "source": [
    "start = time.perf_counter()\n",
    "\n",
    "history = model.fit(partial_x_train, \n",
    "                    partial_y_train, \n",
    "                    epochs=20,\n",
    "                    batch_size=512,\n",
    "                    validation_data=(x_val, y_val))\n",
    "\n",
    "elapsed = time.perf_counter() - start\n",
    "print('Elapsed %.3f seconds.' % elapsed)"
   ]
  },
  {
   "cell_type": "markdown",
   "metadata": {},
   "source": [
    "GPU: 58.579 seconds.  \n",
    "CPU: 56.818 seconds.  \n",
    "Not much difference\n",
    "\n",
    "As we saved the output of `model.fit()` in the variable `history`, we can plot the metrics for the training and validation set. "
   ]
  },
  {
   "cell_type": "code",
   "execution_count": 24,
   "metadata": {},
   "outputs": [
    {
     "data": {
      "text/plain": [
       "dict_keys(['val_loss', 'val_acc', 'loss', 'acc'])"
      ]
     },
     "execution_count": 24,
     "metadata": {},
     "output_type": "execute_result"
    }
   ],
   "source": [
    "import matplotlib.pyplot as plt\n",
    "\n",
    "history_dict = history.history\n",
    "history_dict.keys()"
   ]
  },
  {
   "cell_type": "code",
   "execution_count": 22,
   "metadata": {},
   "outputs": [
    {
     "data": {
      "image/png": "[encoded data removed]",
      "text/plain": [
       "<Figure size 432x288 with 1 Axes>"
      ]
     },
     "metadata": {
      "needs_background": "light"
     },
     "output_type": "display_data"
    }
   ],
   "source": [
    "history_dict = history.history\n",
    "loss_values = history_dict['loss']\n",
    "val_loss_values = history_dict['val_loss']\n",
    "epochs = range(1, len(loss_values) + 1)\n",
    "plt.plot(epochs, loss_values, 'bo', label='Training loss')\n",
    "plt.plot(epochs, val_loss_values, 'r*', label='Validation loss')\n",
    "plt.title('Training and validation loss')\n",
    "plt.xlabel('Epochs')\n",
    "plt.ylabel('Loss')\n",
    "plt.legend()\n",
    "plt.show()"
   ]
  },
  {
   "cell_type": "markdown",
   "metadata": {},
   "source": [
    "Now for the accuracy:"
   ]
  },
  {
   "cell_type": "code",
   "execution_count": 25,
   "metadata": {},
   "outputs": [
    {
     "data": {
      "image/png": "[encoded data removed]",
      "text/plain": [
       "<Figure size 432x288 with 1 Axes>"
      ]
     },
     "metadata": {
      "needs_background": "light"
     },
     "output_type": "display_data"
    }
   ],
   "source": [
    "plt.clf()\n",
    "acc_values = history_dict['acc']\n",
    "val_acc_values = history_dict['val_acc']\n",
    "plt.plot(epochs, acc_values, 'bo', label='Training acc')\n",
    "plt.plot(epochs, val_acc_values, 'r*', label='Validation acc')\n",
    "plt.title('Training and validation accuracy')\n",
    "plt.xlabel('Epochs')\n",
    "plt.ylabel('Loss')\n",
    "plt.legend()\n",
    "plt.show()"
   ]
  },
  {
   "cell_type": "markdown",
   "metadata": {},
   "source": [
    "We can see that our model is overfitting the data. Its metrics are good for the training data, but are poor for the validation data. We can see that after the third epoch, the model decreases the accuracy and increases the losses for the validation data. We could stop the training at that point to get better results.  \n",
    "\n",
    "Let's see that, and evaluate the model with the test data."
   ]
  },
  {
   "cell_type": "code",
   "execution_count": 26,
   "metadata": {},
   "outputs": [
    {
     "name": "stdout",
     "output_type": "stream",
     "text": [
      "Epoch 1/4\n",
      "25000/25000 [==============================] - 4s 149us/step - loss: 0.4750 - acc: 0.8217\n",
      "Epoch 2/4\n",
      "25000/25000 [==============================] - 3s 131us/step - loss: 0.2655 - acc: 0.9100\n",
      "Epoch 3/4\n",
      "25000/25000 [==============================] - 3s 126us/step - loss: 0.1983 - acc: 0.9300\n",
      "Epoch 4/4\n",
      "25000/25000 [==============================] - 3s 126us/step - loss: 0.1676 - acc: 0.9409\n",
      "25000/25000 [==============================] - 6s 225us/step\n"
     ]
    }
   ],
   "source": [
    "model = models.Sequential()\n",
    "model.add(layers.Dense(16, activation='relu', input_shape=(10000,)))\n",
    "model.add(layers.Dense(16, activation='relu'))\n",
    "model.add(layers.Dense(1, activation='sigmoid'))\n",
    "model.compile(optimizer='rmsprop',\n",
    "loss='binary_crossentropy',\n",
    "metrics=['accuracy'])\n",
    "model.fit(x_train, y_train, epochs=4, batch_size=512)\n",
    "results = model.evaluate(x_test, y_test)"
   ]
  },
  {
   "cell_type": "code",
   "execution_count": 29,
   "metadata": {},
   "outputs": [
    {
     "data": {
      "text/plain": [
       "[0.32256739248275756, 0.87316]"
      ]
     },
     "execution_count": 29,
     "metadata": {},
     "output_type": "execute_result"
    }
   ],
   "source": [
    "# now we see the loss function and the accuracy\n",
    "results"
   ]
  },
  {
   "cell_type": "markdown",
   "metadata": {},
   "source": [
    "We have an accuracy of about 87%."
   ]
  },
  {
   "cell_type": "code",
   "execution_count": 30,
   "metadata": {},
   "outputs": [
    {
     "data": {
      "text/plain": [
       "array([[0.13742055],\n",
       "       [0.9996971 ],\n",
       "       [0.3122921 ],\n",
       "       ...,\n",
       "       [0.0719779 ],\n",
       "       [0.04408922],\n",
       "       [0.47226325]], dtype=float32)"
      ]
     },
     "execution_count": 30,
     "metadata": {},
     "output_type": "execute_result"
    }
   ],
   "source": [
    "model.predict(x_test)"
   ]
  },
  {
   "cell_type": "markdown",
   "metadata": {},
   "source": [
    "Let's try different variations to the same classification problem.\n",
    "\n",
    "First, let's change the number of hidden layers,  \n",
    "**3 layers:**"
   ]
  },
  {
   "cell_type": "code",
   "execution_count": 55,
   "metadata": {},
   "outputs": [
    {
     "name": "stdout",
     "output_type": "stream",
     "text": [
      "Train on 15000 samples, validate on 10000 samples\n",
      "Epoch 1/20\n",
      "15000/15000 [==============================] - 3s 222us/step - loss: 0.5505 - acc: 0.7883 - val_loss: 0.4169 - val_acc: 0.8602\n",
      "Epoch 2/20\n",
      "15000/15000 [==============================] - 3s 178us/step - loss: 0.3230 - acc: 0.8969 - val_loss: 0.3183 - val_acc: 0.8795\n",
      "Epoch 3/20\n",
      "15000/15000 [==============================] - 3s 182us/step - loss: 0.2280 - acc: 0.9219 - val_loss: 0.2785 - val_acc: 0.8921\n",
      "Epoch 4/20\n",
      "15000/15000 [==============================] - 3s 184us/step - loss: 0.1737 - acc: 0.9431 - val_loss: 0.2968 - val_acc: 0.8822\n",
      "Epoch 5/20\n",
      "15000/15000 [==============================] - 3s 183us/step - loss: 0.1380 - acc: 0.9539 - val_loss: 0.3310 - val_acc: 0.8702\n",
      "Epoch 6/20\n",
      "15000/15000 [==============================] - 3s 181us/step - loss: 0.1146 - acc: 0.9609 - val_loss: 0.3086 - val_acc: 0.8846\n",
      "Epoch 7/20\n",
      "15000/15000 [==============================] - 3s 179us/step - loss: 0.0896 - acc: 0.9727 - val_loss: 0.3420 - val_acc: 0.8779\n",
      "Epoch 8/20\n",
      "15000/15000 [==============================] - 3s 189us/step - loss: 0.0715 - acc: 0.9784 - val_loss: 0.3773 - val_acc: 0.8732\n",
      "Epoch 9/20\n",
      "15000/15000 [==============================] - 3s 183us/step - loss: 0.0598 - acc: 0.9810 - val_loss: 0.3792 - val_acc: 0.8811\n",
      "Epoch 10/20\n",
      "15000/15000 [==============================] - 3s 184us/step - loss: 0.0432 - acc: 0.9888 - val_loss: 0.4874 - val_acc: 0.8658\n",
      "Epoch 11/20\n",
      "15000/15000 [==============================] - 3s 183us/step - loss: 0.0322 - acc: 0.9925 - val_loss: 0.4541 - val_acc: 0.8751\n",
      "Epoch 12/20\n",
      "15000/15000 [==============================] - 3s 185us/step - loss: 0.0259 - acc: 0.9935 - val_loss: 0.4955 - val_acc: 0.8741\n",
      "Epoch 13/20\n",
      "15000/15000 [==============================] - 3s 184us/step - loss: 0.0176 - acc: 0.9965 - val_loss: 0.5266 - val_acc: 0.8751\n",
      "Epoch 14/20\n",
      "15000/15000 [==============================] - 3s 181us/step - loss: 0.0178 - acc: 0.9953 - val_loss: 0.5631 - val_acc: 0.8736\n",
      "Epoch 15/20\n",
      "15000/15000 [==============================] - 3s 182us/step - loss: 0.0065 - acc: 0.9996 - val_loss: 0.6008 - val_acc: 0.8718\n",
      "Epoch 16/20\n",
      "15000/15000 [==============================] - 3s 185us/step - loss: 0.0133 - acc: 0.9961 - val_loss: 0.6454 - val_acc: 0.8712\n",
      "Epoch 17/20\n",
      "15000/15000 [==============================] - 3s 180us/step - loss: 0.0029 - acc: 0.9999 - val_loss: 0.6743 - val_acc: 0.8698\n",
      "Epoch 18/20\n",
      "15000/15000 [==============================] - 3s 188us/step - loss: 0.0098 - acc: 0.9971 - val_loss: 0.7194 - val_acc: 0.8693\n",
      "Epoch 19/20\n",
      "15000/15000 [==============================] - 3s 182us/step - loss: 0.0016 - acc: 0.9999 - val_loss: 0.7407 - val_acc: 0.8680\n",
      "Epoch 20/20\n",
      "15000/15000 [==============================] - 3s 184us/step - loss: 0.0012 - acc: 0.9999 - val_loss: 0.7771 - val_acc: 0.8675\n",
      "25000/25000 [==============================] - 3s 134us/step\n"
     ]
    }
   ],
   "source": [
    "model = models.Sequential()\n",
    "model.add(layers.Dense(16, activation='relu', input_shape=(10000,)))\n",
    "model.add(layers.Dense(16, activation='relu'))\n",
    "model.add(layers.Dense(16, activation='relu'))\n",
    "model.add(layers.Dense(1, activation='sigmoid'))\n",
    "model.compile(optimizer='rmsprop', \n",
    "              loss='binary_crossentropy',\n",
    "              metrics=['accuracy'])\n",
    "history = model.fit(partial_x_train, partial_y_train, epochs=20, batch_size=512, validation_data=(x_val, y_val))\n",
    "results = model.evaluate(x_test, y_test)"
   ]
  },
  {
   "cell_type": "markdown",
   "metadata": {},
   "source": [
    "Let's plot the loss and accuracy over training and validation data"
   ]
  },
  {
   "cell_type": "code",
   "execution_count": 56,
   "metadata": {},
   "outputs": [
    {
     "data": {
      "image/png": "[encoded data removed]",
      "text/plain": [
       "<Figure size 432x288 with 1 Axes>"
      ]
     },
     "metadata": {
      "needs_background": "light"
     },
     "output_type": "display_data"
    }
   ],
   "source": [
    "history_dict = history.history\n",
    "loss_values = history_dict['loss']\n",
    "val_loss_values = history_dict['val_loss']\n",
    "epochs = range(1, len(loss_values) + 1)\n",
    "plt.plot(epochs, loss_values, 'bo', label='Training loss')\n",
    "plt.plot(epochs, val_loss_values, 'r*', label='Validation loss')\n",
    "plt.title('Training and validation loss')\n",
    "plt.xlabel('Epochs')\n",
    "plt.ylabel('Loss')\n",
    "plt.legend()\n",
    "plt.show()"
   ]
  },
  {
   "cell_type": "code",
   "execution_count": 57,
   "metadata": {},
   "outputs": [
    {
     "data": {
      "image/png": "[encoded data removed]",
      "text/plain": [
       "<Figure size 432x288 with 1 Axes>"
      ]
     },
     "metadata": {
      "needs_background": "light"
     },
     "output_type": "display_data"
    }
   ],
   "source": [
    "plt.clf()\n",
    "acc_values = history_dict['acc']\n",
    "val_acc_values = history_dict['val_acc']\n",
    "plt.plot(epochs, acc_values, 'bo', label='Training acc')\n",
    "plt.plot(epochs, val_acc_values, 'r*', label='Validation acc')\n",
    "plt.title('Training and validation accuracy')\n",
    "plt.xlabel('Epochs')\n",
    "plt.ylabel('Loss')\n",
    "plt.legend()\n",
    "plt.show()"
   ]
  },
  {
   "cell_type": "markdown",
   "metadata": {},
   "source": [
    "This looks much better than the previous model with 2 hidden layers. There is no clear overfitting when evaluating the model on the validation data set."
   ]
  },
  {
   "cell_type": "code",
   "execution_count": 58,
   "metadata": {},
   "outputs": [
    {
     "data": {
      "text/plain": [
       "[0.857631993407011, 0.85188]"
      ]
     },
     "execution_count": 58,
     "metadata": {},
     "output_type": "execute_result"
    }
   ],
   "source": [
    "results"
   ]
  },
  {
   "cell_type": "markdown",
   "metadata": {},
   "source": [
    "However, the accuracy over the test data is much lower, we have of about 84%. This might be overfitting again. \n",
    "\n",
    "Let's try with **1 hidden layer**:"
   ]
  },
  {
   "cell_type": "code",
   "execution_count": 59,
   "metadata": {},
   "outputs": [
    {
     "name": "stdout",
     "output_type": "stream",
     "text": [
      "Train on 15000 samples, validate on 10000 samples\n",
      "Epoch 1/20\n",
      "15000/15000 [==============================] - 3s 215us/step - loss: 0.5126 - acc: 0.7923 - val_loss: 0.4031 - val_acc: 0.8637\n",
      "Epoch 2/20\n",
      "15000/15000 [==============================] - 3s 188us/step - loss: 0.3306 - acc: 0.9027 - val_loss: 0.3443 - val_acc: 0.8636\n",
      "Epoch 3/20\n",
      "15000/15000 [==============================] - 3s 187us/step - loss: 0.2564 - acc: 0.9211 - val_loss: 0.2938 - val_acc: 0.8890\n",
      "Epoch 4/20\n",
      "15000/15000 [==============================] - 3s 178us/step - loss: 0.2111 - acc: 0.9331 - val_loss: 0.2836 - val_acc: 0.8883\n",
      "Epoch 5/20\n",
      "15000/15000 [==============================] - 3s 182us/step - loss: 0.1774 - acc: 0.9447 - val_loss: 0.3154 - val_acc: 0.8729\n",
      "Epoch 6/20\n",
      "15000/15000 [==============================] - 3s 182us/step - loss: 0.1551 - acc: 0.9539 - val_loss: 0.2750 - val_acc: 0.8877\n",
      "Epoch 7/20\n",
      "15000/15000 [==============================] - 3s 184us/step - loss: 0.1346 - acc: 0.9613 - val_loss: 0.2796 - val_acc: 0.8883\n",
      "Epoch 8/20\n",
      "15000/15000 [==============================] - 3s 191us/step - loss: 0.1182 - acc: 0.9669 - val_loss: 0.3043 - val_acc: 0.8832\n",
      "Epoch 9/20\n",
      "15000/15000 [==============================] - 3s 177us/step - loss: 0.1043 - acc: 0.9720 - val_loss: 0.2915 - val_acc: 0.8845\n",
      "Epoch 10/20\n",
      "15000/15000 [==============================] - 3s 175us/step - loss: 0.0930 - acc: 0.9765 - val_loss: 0.3070 - val_acc: 0.8824\n",
      "Epoch 11/20\n",
      "15000/15000 [==============================] - 3s 177us/step - loss: 0.0820 - acc: 0.9784 - val_loss: 0.3134 - val_acc: 0.8822\n",
      "Epoch 12/20\n",
      "15000/15000 [==============================] - 3s 175us/step - loss: 0.0731 - acc: 0.9827 - val_loss: 0.3268 - val_acc: 0.8825\n",
      "Epoch 13/20\n",
      "15000/15000 [==============================] - 3s 178us/step - loss: 0.0645 - acc: 0.9845 - val_loss: 0.3388 - val_acc: 0.8802\n",
      "Epoch 14/20\n",
      "15000/15000 [==============================] - 3s 177us/step - loss: 0.0576 - acc: 0.9875 - val_loss: 0.3569 - val_acc: 0.8797\n",
      "Epoch 15/20\n",
      "15000/15000 [==============================] - 3s 178us/step - loss: 0.0506 - acc: 0.9902 - val_loss: 0.3729 - val_acc: 0.8762\n",
      "Epoch 16/20\n",
      "15000/15000 [==============================] - 3s 177us/step - loss: 0.0446 - acc: 0.9914 - val_loss: 0.3853 - val_acc: 0.8765\n",
      "Epoch 17/20\n",
      "15000/15000 [==============================] - 3s 176us/step - loss: 0.0393 - acc: 0.9929 - val_loss: 0.4032 - val_acc: 0.8757\n",
      "Epoch 18/20\n",
      "15000/15000 [==============================] - 3s 179us/step - loss: 0.0340 - acc: 0.9939 - val_loss: 0.4210 - val_acc: 0.8743\n",
      "Epoch 19/20\n",
      "15000/15000 [==============================] - 3s 177us/step - loss: 0.0300 - acc: 0.9953 - val_loss: 0.4385 - val_acc: 0.8708\n",
      "Epoch 20/20\n",
      "15000/15000 [==============================] - 3s 177us/step - loss: 0.0262 - acc: 0.9965 - val_loss: 0.4582 - val_acc: 0.8730\n",
      "25000/25000 [==============================] - 3s 126us/step\n"
     ]
    }
   ],
   "source": [
    "model = models.Sequential()\n",
    "model.add(layers.Dense(16, activation='relu', input_shape=(10000,)))\n",
    "model.add(layers.Dense(1, activation='sigmoid'))\n",
    "model.compile(optimizer='rmsprop', \n",
    "              loss='binary_crossentropy',\n",
    "              metrics=['accuracy'])\n",
    "history = model.fit(partial_x_train, partial_y_train, epochs=20, batch_size=512, validation_data=(x_val, y_val))\n",
    "results = model.evaluate(x_test, y_test)"
   ]
  },
  {
   "cell_type": "code",
   "execution_count": 60,
   "metadata": {},
   "outputs": [
    {
     "data": {
      "image/png": "[encoded data removed]",
      "text/plain": [
       "<Figure size 432x288 with 1 Axes>"
      ]
     },
     "metadata": {
      "needs_background": "light"
     },
     "output_type": "display_data"
    }
   ],
   "source": [
    "history_dict = history.history\n",
    "loss_values = history_dict['loss']\n",
    "val_loss_values = history_dict['val_loss']\n",
    "epochs = range(1, len(loss_values) + 1)\n",
    "plt.plot(epochs, loss_values, 'bo', label='Training loss')\n",
    "plt.plot(epochs, val_loss_values, 'r*', label='Validation loss')\n",
    "plt.title('Training and validation loss')\n",
    "plt.xlabel('Epochs')\n",
    "plt.ylabel('Loss')\n",
    "plt.legend()\n",
    "plt.show()"
   ]
  },
  {
   "cell_type": "code",
   "execution_count": 61,
   "metadata": {},
   "outputs": [
    {
     "data": {
      "image/png": "[encoded data removed]",
      "text/plain": [
       "<Figure size 432x288 with 1 Axes>"
      ]
     },
     "metadata": {
      "needs_background": "light"
     },
     "output_type": "display_data"
    }
   ],
   "source": [
    "plt.clf()\n",
    "acc_values = history_dict['acc']\n",
    "val_acc_values = history_dict['val_acc']\n",
    "plt.plot(epochs, acc_values, 'bo', label='Training acc')\n",
    "plt.plot(epochs, val_acc_values, 'r*', label='Validation acc')\n",
    "plt.title('Training and validation accuracy')\n",
    "plt.xlabel('Epochs')\n",
    "plt.ylabel('Loss')\n",
    "plt.legend()\n",
    "plt.show()"
   ]
  },
  {
   "cell_type": "code",
   "execution_count": 62,
   "metadata": {},
   "outputs": [
    {
     "data": {
      "text/plain": [
       "[0.4982976284074783, 0.85852]"
      ]
     },
     "execution_count": 62,
     "metadata": {},
     "output_type": "execute_result"
    }
   ],
   "source": [
    "results"
   ]
  },
  {
   "cell_type": "markdown",
   "metadata": {},
   "source": [
    "We obtained a similar result compared to the model with 3 hidden layers. \n",
    "\n",
    "Now, let's repeat the model with 2 hidden layers, but lets change the number of hidden unit:"
   ]
  },
  {
   "cell_type": "code",
   "execution_count": 63,
   "metadata": {},
   "outputs": [
    {
     "name": "stdout",
     "output_type": "stream",
     "text": [
      "Train on 15000 samples, validate on 10000 samples\n",
      "Epoch 1/20\n",
      "15000/15000 [==============================] - 4s 244us/step - loss: 0.4983 - acc: 0.7787 - val_loss: 0.3520 - val_acc: 0.8787\n",
      "Epoch 2/20\n",
      "15000/15000 [==============================] - 3s 199us/step - loss: 0.2723 - acc: 0.9075 - val_loss: 0.3216 - val_acc: 0.8672\n",
      "Epoch 3/20\n",
      "15000/15000 [==============================] - 3s 212us/step - loss: 0.2003 - acc: 0.9296 - val_loss: 0.2927 - val_acc: 0.8831\n",
      "Epoch 4/20\n",
      "15000/15000 [==============================] - 3s 204us/step - loss: 0.1557 - acc: 0.9468 - val_loss: 0.3524 - val_acc: 0.8643\n",
      "Epoch 5/20\n",
      "15000/15000 [==============================] - 3s 204us/step - loss: 0.1254 - acc: 0.9569 - val_loss: 0.3011 - val_acc: 0.8819\n",
      "Epoch 6/20\n",
      "15000/15000 [==============================] - 3s 201us/step - loss: 0.1010 - acc: 0.9667 - val_loss: 0.3176 - val_acc: 0.8847\n",
      "Epoch 7/20\n",
      "15000/15000 [==============================] - 3s 207us/step - loss: 0.0773 - acc: 0.9769 - val_loss: 0.3498 - val_acc: 0.8812\n",
      "Epoch 8/20\n",
      "15000/15000 [==============================] - 3s 201us/step - loss: 0.0592 - acc: 0.9840 - val_loss: 0.3687 - val_acc: 0.8774\n",
      "Epoch 9/20\n",
      "15000/15000 [==============================] - 3s 202us/step - loss: 0.0470 - acc: 0.9873 - val_loss: 0.4043 - val_acc: 0.8793\n",
      "Epoch 10/20\n",
      "15000/15000 [==============================] - 3s 201us/step - loss: 0.0375 - acc: 0.9889 - val_loss: 0.4362 - val_acc: 0.8775\n",
      "Epoch 11/20\n",
      "15000/15000 [==============================] - 3s 204us/step - loss: 0.0267 - acc: 0.9938 - val_loss: 0.4810 - val_acc: 0.8738\n",
      "Epoch 12/20\n",
      "15000/15000 [==============================] - 3s 208us/step - loss: 0.0233 - acc: 0.9936 - val_loss: 0.5018 - val_acc: 0.8733\n",
      "Epoch 13/20\n",
      "15000/15000 [==============================] - 3s 207us/step - loss: 0.0187 - acc: 0.9953 - val_loss: 0.5296 - val_acc: 0.8726\n",
      "Epoch 14/20\n",
      "15000/15000 [==============================] - 3s 205us/step - loss: 0.0065 - acc: 0.9997 - val_loss: 0.5709 - val_acc: 0.8681\n",
      "Epoch 15/20\n",
      "15000/15000 [==============================] - 3s 206us/step - loss: 0.0129 - acc: 0.9967 - val_loss: 0.6032 - val_acc: 0.8694\n",
      "Epoch 16/20\n",
      "15000/15000 [==============================] - 3s 200us/step - loss: 0.0031 - acc: 0.9999 - val_loss: 0.6446 - val_acc: 0.8712\n",
      "Epoch 17/20\n",
      "15000/15000 [==============================] - 3s 208us/step - loss: 0.0116 - acc: 0.9964 - val_loss: 0.6759 - val_acc: 0.8670\n",
      "Epoch 18/20\n",
      "15000/15000 [==============================] - 3s 202us/step - loss: 0.0016 - acc: 0.9999 - val_loss: 0.7031 - val_acc: 0.8672\n",
      "Epoch 19/20\n",
      "15000/15000 [==============================] - 3s 208us/step - loss: 0.0016 - acc: 0.9997 - val_loss: 0.9806 - val_acc: 0.8340\n",
      "Epoch 20/20\n",
      "15000/15000 [==============================] - 3s 204us/step - loss: 0.0030 - acc: 0.9993 - val_loss: 0.7750 - val_acc: 0.8657\n",
      "25000/25000 [==============================] - 4s 146us/step\n"
     ]
    }
   ],
   "source": [
    "model = models.Sequential()\n",
    "model.add(layers.Dense(32, activation='relu', input_shape=(10000,)))\n",
    "model.add(layers.Dense(32, activation='relu'))\n",
    "model.add(layers.Dense(1, activation='sigmoid'))\n",
    "model.compile(optimizer='rmsprop', \n",
    "              loss='binary_crossentropy',\n",
    "              metrics=['accuracy'])\n",
    "history = model.fit(partial_x_train, partial_y_train, epochs=20, batch_size=512, validation_data=(x_val, y_val))\n",
    "results = model.evaluate(x_test, y_test)"
   ]
  },
  {
   "cell_type": "code",
   "execution_count": 64,
   "metadata": {},
   "outputs": [
    {
     "data": {
      "image/png": "[encoded data removed]",
      "text/plain": [
       "<Figure size 432x288 with 1 Axes>"
      ]
     },
     "metadata": {
      "needs_background": "light"
     },
     "output_type": "display_data"
    }
   ],
   "source": [
    "history_dict = history.history\n",
    "loss_values = history_dict['loss']\n",
    "val_loss_values = history_dict['val_loss']\n",
    "epochs = range(1, len(loss_values) + 1)\n",
    "plt.plot(epochs, loss_values, 'bo', label='Training loss')\n",
    "plt.plot(epochs, val_loss_values, 'r*', label='Validation loss')\n",
    "plt.title('Training and validation loss')\n",
    "plt.xlabel('Epochs')\n",
    "plt.ylabel('Loss')\n",
    "plt.legend()\n",
    "plt.show()"
   ]
  },
  {
   "cell_type": "code",
   "execution_count": 65,
   "metadata": {},
   "outputs": [
    {
     "data": {
      "image/png": "[encoded data removed]",
      "text/plain": [
       "<Figure size 432x288 with 1 Axes>"
      ]
     },
     "metadata": {
      "needs_background": "light"
     },
     "output_type": "display_data"
    }
   ],
   "source": [
    "plt.clf()\n",
    "acc_values = history_dict['acc']\n",
    "val_acc_values = history_dict['val_acc']\n",
    "plt.plot(epochs, acc_values, 'bo', label='Training acc')\n",
    "plt.plot(epochs, val_acc_values, 'r*', label='Validation acc')\n",
    "plt.title('Training and validation accuracy')\n",
    "plt.xlabel('Epochs')\n",
    "plt.ylabel('Loss')\n",
    "plt.legend()\n",
    "plt.show()"
   ]
  },
  {
   "cell_type": "code",
   "execution_count": 66,
   "metadata": {},
   "outputs": [
    {
     "data": {
      "text/plain": [
       "[0.8397839316415787, 0.853]"
      ]
     },
     "execution_count": 66,
     "metadata": {},
     "output_type": "execute_result"
    }
   ],
   "source": [
    "results"
   ]
  },
  {
   "cell_type": "markdown",
   "metadata": {},
   "source": [
    "Similar accuracy on the test data.\n",
    "\n",
    "Lets change the model to **64 units** per hidden layer"
   ]
  },
  {
   "cell_type": "code",
   "execution_count": 67,
   "metadata": {},
   "outputs": [
    {
     "name": "stdout",
     "output_type": "stream",
     "text": [
      "Train on 15000 samples, validate on 10000 samples\n",
      "Epoch 1/20\n",
      "15000/15000 [==============================] - 4s 295us/step - loss: 0.4802 - acc: 0.7809 - val_loss: 0.3623 - val_acc: 0.8514\n",
      "Epoch 2/20\n",
      "15000/15000 [==============================] - 4s 249us/step - loss: 0.2652 - acc: 0.8996 - val_loss: 0.2815 - val_acc: 0.8863\n",
      "Epoch 3/20\n",
      "15000/15000 [==============================] - 4s 256us/step - loss: 0.1877 - acc: 0.9322 - val_loss: 0.3776 - val_acc: 0.8535\n",
      "Epoch 4/20\n",
      "15000/15000 [==============================] - 4s 258us/step - loss: 0.1394 - acc: 0.9507 - val_loss: 0.3055 - val_acc: 0.8825\n",
      "Epoch 5/20\n",
      "15000/15000 [==============================] - 4s 257us/step - loss: 0.1112 - acc: 0.9609 - val_loss: 0.3482 - val_acc: 0.8782\n",
      "Epoch 6/20\n",
      "15000/15000 [==============================] - 4s 259us/step - loss: 0.0750 - acc: 0.9753 - val_loss: 0.3741 - val_acc: 0.8778\n",
      "Epoch 7/20\n",
      "15000/15000 [==============================] - 4s 261us/step - loss: 0.0596 - acc: 0.9817 - val_loss: 0.3824 - val_acc: 0.8803\n",
      "Epoch 8/20\n",
      "15000/15000 [==============================] - 4s 252us/step - loss: 0.0471 - acc: 0.9855 - val_loss: 0.4117 - val_acc: 0.8785\n",
      "Epoch 9/20\n",
      "15000/15000 [==============================] - 4s 249us/step - loss: 0.0394 - acc: 0.9891 - val_loss: 0.4374 - val_acc: 0.8756\n",
      "Epoch 10/20\n",
      "15000/15000 [==============================] - 4s 253us/step - loss: 0.0101 - acc: 0.9991 - val_loss: 0.4875 - val_acc: 0.8765\n",
      "Epoch 11/20\n",
      "15000/15000 [==============================] - 4s 253us/step - loss: 0.0397 - acc: 0.9892 - val_loss: 0.5089 - val_acc: 0.8732\n",
      "Epoch 12/20\n",
      "15000/15000 [==============================] - 4s 255us/step - loss: 0.0039 - acc: 0.9999 - val_loss: 0.5570 - val_acc: 0.8751\n",
      "Epoch 13/20\n",
      "15000/15000 [==============================] - 4s 254us/step - loss: 0.0024 - acc: 0.9999 - val_loss: 0.6095 - val_acc: 0.8731: 0.0023 - acc: \n",
      "Epoch 14/20\n",
      "15000/15000 [==============================] - 4s 256us/step - loss: 0.0360 - acc: 0.9921 - val_loss: 0.6409 - val_acc: 0.8744\n",
      "Epoch 15/20\n",
      "15000/15000 [==============================] - 4s 266us/step - loss: 8.6986e-04 - acc: 1.0000 - val_loss: 0.6694 - val_acc: 0.8742\n",
      "Epoch 16/20\n",
      "15000/15000 [==============================] - 4s 253us/step - loss: 6.0057e-04 - acc: 1.0000 - val_loss: 0.7101 - val_acc: 0.8744\n",
      "Epoch 17/20\n",
      "15000/15000 [==============================] - 4s 253us/step - loss: 0.0290 - acc: 0.9929 - val_loss: 0.7269 - val_acc: 0.8694\n",
      "Epoch 18/20\n",
      "15000/15000 [==============================] - 4s 256us/step - loss: 3.2347e-04 - acc: 1.0000 - val_loss: 0.7523 - val_acc: 0.8704\n",
      "Epoch 19/20\n",
      "15000/15000 [==============================] - 4s 254us/step - loss: 2.2389e-04 - acc: 1.0000 - val_loss: 0.7835 - val_acc: 0.8717\n",
      "Epoch 20/20\n",
      "15000/15000 [==============================] - 4s 253us/step - loss: 1.5366e-04 - acc: 1.0000 - val_loss: 0.8246 - val_acc: 0.8719\n",
      "25000/25000 [==============================] - 5s 188us/step\n"
     ]
    }
   ],
   "source": [
    "model = models.Sequential()\n",
    "model.add(layers.Dense(64, activation='relu', input_shape=(10000,)))\n",
    "model.add(layers.Dense(64, activation='relu'))\n",
    "model.add(layers.Dense(1, activation='sigmoid'))\n",
    "model.compile(optimizer='rmsprop', \n",
    "              loss='binary_crossentropy',\n",
    "              metrics=['accuracy'])\n",
    "history = model.fit(partial_x_train, partial_y_train, epochs=20, batch_size=512, validation_data=(x_val, y_val))\n",
    "results = model.evaluate(x_test, y_test)"
   ]
  },
  {
   "cell_type": "code",
   "execution_count": 68,
   "metadata": {},
   "outputs": [
    {
     "data": {
      "image/png": "[encoded data removed]",
      "text/plain": [
       "<Figure size 432x288 with 1 Axes>"
      ]
     },
     "metadata": {
      "needs_background": "light"
     },
     "output_type": "display_data"
    }
   ],
   "source": [
    "history_dict = history.history\n",
    "loss_values = history_dict['loss']\n",
    "val_loss_values = history_dict['val_loss']\n",
    "epochs = range(1, len(loss_values) + 1)\n",
    "plt.plot(epochs, loss_values, 'bo', label='Training loss')\n",
    "plt.plot(epochs, val_loss_values, 'r*', label='Validation loss')\n",
    "plt.title('Training and validation loss')\n",
    "plt.xlabel('Epochs')\n",
    "plt.ylabel('Loss')\n",
    "plt.legend()\n",
    "plt.show()"
   ]
  },
  {
   "cell_type": "code",
   "execution_count": 69,
   "metadata": {},
   "outputs": [
    {
     "data": {
      "image/png": "[encoded data removed]",
      "text/plain": [
       "<Figure size 432x288 with 1 Axes>"
      ]
     },
     "metadata": {
      "needs_background": "light"
     },
     "output_type": "display_data"
    }
   ],
   "source": [
    "plt.clf()\n",
    "acc_values = history_dict['acc']\n",
    "val_acc_values = history_dict['val_acc']\n",
    "plt.plot(epochs, acc_values, 'bo', label='Training acc')\n",
    "plt.plot(epochs, val_acc_values, 'r*', label='Validation acc')\n",
    "plt.title('Training and validation accuracy')\n",
    "plt.xlabel('Epochs')\n",
    "plt.ylabel('Loss')\n",
    "plt.legend()\n",
    "plt.show()"
   ]
  },
  {
   "cell_type": "code",
   "execution_count": 70,
   "metadata": {},
   "outputs": [
    {
     "data": {
      "text/plain": [
       "[0.9088832312595845, 0.85492]"
      ]
     },
     "execution_count": 70,
     "metadata": {},
     "output_type": "execute_result"
    }
   ],
   "source": [
    "results"
   ]
  },
  {
   "cell_type": "markdown",
   "metadata": {},
   "source": [
    "85% accuracy on the test data.\n",
    "\n",
    "Now the model will have a different loss function (**mse**), but with the original **16 units** per hidden layer "
   ]
  },
  {
   "cell_type": "code",
   "execution_count": 71,
   "metadata": {},
   "outputs": [
    {
     "name": "stdout",
     "output_type": "stream",
     "text": [
      "Train on 15000 samples, validate on 10000 samples\n",
      "Epoch 1/20\n",
      "15000/15000 [==============================] - 3s 227us/step - loss: 0.1716 - acc: 0.7876 - val_loss: 0.1254 - val_acc: 0.8637\n",
      "Epoch 2/20\n",
      "15000/15000 [==============================] - 3s 176us/step - loss: 0.0961 - acc: 0.8992 - val_loss: 0.0953 - val_acc: 0.8868\n",
      "Epoch 3/20\n",
      "15000/15000 [==============================] - 3s 187us/step - loss: 0.0673 - acc: 0.9291 - val_loss: 0.0861 - val_acc: 0.8902\n",
      "Epoch 4/20\n",
      "15000/15000 [==============================] - 3s 175us/step - loss: 0.0507 - acc: 0.9477 - val_loss: 0.0878 - val_acc: 0.8816\n",
      "Epoch 5/20\n",
      "15000/15000 [==============================] - 3s 180us/step - loss: 0.0411 - acc: 0.9586 - val_loss: 0.0854 - val_acc: 0.8839\n",
      "Epoch 6/20\n",
      "15000/15000 [==============================] - 3s 175us/step - loss: 0.0310 - acc: 0.9717 - val_loss: 0.0878 - val_acc: 0.8820\n",
      "Epoch 7/20\n",
      "15000/15000 [==============================] - 3s 178us/step - loss: 0.0256 - acc: 0.9777 - val_loss: 0.0941 - val_acc: 0.8727\n",
      "Epoch 8/20\n",
      "15000/15000 [==============================] - 3s 176us/step - loss: 0.0210 - acc: 0.9817 - val_loss: 0.0878 - val_acc: 0.8797\n",
      "Epoch 9/20\n",
      "15000/15000 [==============================] - 3s 178us/step - loss: 0.0167 - acc: 0.9866 - val_loss: 0.0890 - val_acc: 0.8799\n",
      "Epoch 10/20\n",
      "15000/15000 [==============================] - 3s 176us/step - loss: 0.0130 - acc: 0.9907 - val_loss: 0.0949 - val_acc: 0.8762\n",
      "Epoch 11/20\n",
      "15000/15000 [==============================] - 3s 181us/step - loss: 0.0102 - acc: 0.9929 - val_loss: 0.0951 - val_acc: 0.8744\n",
      "Epoch 12/20\n",
      "15000/15000 [==============================] - 3s 208us/step - loss: 0.0084 - acc: 0.9939 - val_loss: 0.1040 - val_acc: 0.8667\n",
      "Epoch 13/20\n",
      "15000/15000 [==============================] - 3s 179us/step - loss: 0.0073 - acc: 0.9944 - val_loss: 0.0980 - val_acc: 0.8726\n",
      "Epoch 14/20\n",
      "15000/15000 [==============================] - 3s 184us/step - loss: 0.0061 - acc: 0.9949 - val_loss: 0.0996 - val_acc: 0.8711\n",
      "Epoch 15/20\n",
      "15000/15000 [==============================] - 3s 177us/step - loss: 0.0037 - acc: 0.9973 - val_loss: 0.1029 - val_acc: 0.8721\n",
      "Epoch 16/20\n",
      "15000/15000 [==============================] - 3s 180us/step - loss: 0.0052 - acc: 0.9952 - val_loss: 0.1030 - val_acc: 0.8703\n",
      "Epoch 17/20\n",
      "15000/15000 [==============================] - 3s 177us/step - loss: 0.0027 - acc: 0.9977 - val_loss: 0.1046 - val_acc: 0.8685\n",
      "Epoch 18/20\n",
      "15000/15000 [==============================] - 3s 178us/step - loss: 0.0041 - acc: 0.9957 - val_loss: 0.1057 - val_acc: 0.8657\n",
      "Epoch 19/20\n",
      "15000/15000 [==============================] - 3s 179us/step - loss: 0.0023 - acc: 0.9979 - val_loss: 0.1060 - val_acc: 0.8687\n",
      "Epoch 20/20\n",
      "15000/15000 [==============================] - 3s 177us/step - loss: 0.0021 - acc: 0.9981 - val_loss: 0.1079 - val_acc: 0.8679\n",
      "25000/25000 [==============================] - 3s 126us/step\n"
     ]
    }
   ],
   "source": [
    "model = models.Sequential()\n",
    "model.add(layers.Dense(16, activation='relu', input_shape=(10000,)))\n",
    "model.add(layers.Dense(16, activation='relu'))\n",
    "model.add(layers.Dense(1, activation='sigmoid'))\n",
    "model.compile(optimizer='rmsprop', \n",
    "              loss='mse',\n",
    "              metrics=['accuracy'])\n",
    "history = model.fit(partial_x_train, partial_y_train, epochs=20, batch_size=512, validation_data=(x_val, y_val))\n",
    "results = model.evaluate(x_test, y_test)"
   ]
  },
  {
   "cell_type": "code",
   "execution_count": 72,
   "metadata": {},
   "outputs": [
    {
     "data": {
      "image/png": "[encoded data removed]",
      "text/plain": [
       "<Figure size 432x288 with 1 Axes>"
      ]
     },
     "metadata": {
      "needs_background": "light"
     },
     "output_type": "display_data"
    }
   ],
   "source": [
    "history_dict = history.history\n",
    "loss_values = history_dict['loss']\n",
    "val_loss_values = history_dict['val_loss']\n",
    "epochs = range(1, len(loss_values) + 1)\n",
    "plt.plot(epochs, loss_values, 'bo', label='Training loss')\n",
    "plt.plot(epochs, val_loss_values, 'r*', label='Validation loss')\n",
    "plt.title('Training and validation loss')\n",
    "plt.xlabel('Epochs')\n",
    "plt.ylabel('Loss')\n",
    "plt.legend()\n",
    "plt.show()"
   ]
  },
  {
   "cell_type": "code",
   "execution_count": 73,
   "metadata": {},
   "outputs": [
    {
     "data": {
      "image/png": "[encoded data removed]",
      "text/plain": [
       "<Figure size 432x288 with 1 Axes>"
      ]
     },
     "metadata": {
      "needs_background": "light"
     },
     "output_type": "display_data"
    }
   ],
   "source": [
    "plt.clf()\n",
    "acc_values = history_dict['acc']\n",
    "val_acc_values = history_dict['val_acc']\n",
    "plt.plot(epochs, acc_values, 'bo', label='Training acc')\n",
    "plt.plot(epochs, val_acc_values, 'r*', label='Validation acc')\n",
    "plt.title('Training and validation accuracy')\n",
    "plt.xlabel('Epochs')\n",
    "plt.ylabel('Loss')\n",
    "plt.legend()\n",
    "plt.show()"
   ]
  },
  {
   "cell_type": "code",
   "execution_count": 74,
   "metadata": {},
   "outputs": [
    {
     "data": {
      "text/plain": [
       "[0.12003207361340523, 0.85296]"
      ]
     },
     "execution_count": 74,
     "metadata": {},
     "output_type": "execute_result"
    }
   ],
   "source": [
    "results"
   ]
  },
  {
   "cell_type": "code",
   "execution_count": null,
   "metadata": {},
   "outputs": [],
   "source": []
  }
 ],
 "metadata": {
  "kernelspec": {
   "display_name": "Python 3",
   "language": "python",
   "name": "python3"
  },
  "language_info": {
   "codemirror_mode": {
    "name": "ipython",
    "version": 3
   },
   "file_extension": ".py",
   "mimetype": "text/x-python",
   "name": "python",
   "nbconvert_exporter": "python",
   "pygments_lexer": "ipython3",
   "version": "3.6.10"
  }
 },
 "nbformat": 4,
 "nbformat_minor": 4
}
